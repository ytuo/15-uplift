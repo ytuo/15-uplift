{
 "cells": [
  {
   "cell_type": "markdown",
   "id": "a9ae93cd",
   "metadata": {},
   "source": [
    "### Optimizing Temporary Housing Deployment to Reduce U.S. Homelessness \n",
    "Nauman Sohani, Yannan Tuo, Charlie Nitschelm"
   ]
  },
  {
   "cell_type": "code",
   "execution_count": null,
   "id": "885f71d5",
   "metadata": {},
   "outputs": [],
   "source": [
    "# Load packages\n",
    "import gurobipy as gp\n",
    "from gurobipy import GRB\n",
    "import pandas as pd\n",
    "import numpy as np\n",
    "import matplotlib.pyplot as plt\n"
   ]
  },
  {
   "cell_type": "code",
   "execution_count": null,
   "id": "a2eed4e2",
   "metadata": {},
   "outputs": [
    {
     "name": "stdout",
     "output_type": "stream",
     "text": [
      "Variable                   Type            Data/Info\n",
      "----------------------------------------------------\n",
      "GRB                        type            <class 'gurobipy._grb.GRB'>\n",
      "Path                       type            <class 'pathlib.Path'>\n",
      "R                          float           3958.8\n",
      "abbreviation               str             WY\n",
      "abbreviation_state_pairs   list            n=50\n",
      "avg_lat                    float64         42.99953828079687\n",
      "avg_lon                    float64         -107.55139588131806\n",
      "centroids                  GeoSeries       0    POINT (-107.5514 42.99954)\\ndtype: geometry\n",
      "coc                        str             WY_500\n",
      "coc_dest                   str             WY_500\n",
      "coc_distance_arr           list            n=380\n",
      "coc_distance_matrix        DataFrame                    AL_500      <...>n[380 rows x 380 columns]\n",
      "coc_lon_lat                dict            n=380\n",
      "coc_path                   WindowsPath     c:\\Users\\yanna\\repos\\15-u<...>oC_GIS_State_Shapefile_WY\n",
      "coc_source                 str             WY_500\n",
      "cocs                       list            n=380\n",
      "directory                  WindowsPath     c:\\Users\\yanna\\repos\\15-uplift\n",
      "distance                   float           0.0\n",
      "gdf                        GeoDataFrame       ST STATE_NAME  COCNUM <...>\\n\\n[1 rows x 46 columns]\n",
      "gp                         module          <module 'gurobipy' from '<...>\\\\gurobipy\\\\__init__.py'>\n",
      "gpd                        module          <module 'geopandas' from <...>\\geopandas\\\\__init__.py'>\n",
      "haversine_dist             function        <function haversine_dist at 0x0000025774681800>\n",
      "latitudes                  Series          0    42.999538\\ndtype: float64\n",
      "lon_lat_dest               tuple           n=2\n",
      "lon_lat_source             tuple           n=2\n",
      "longitudes                 Series          0   -107.551396\\ndtype: float64\n",
      "math                       module          <module 'math' (built-in)>\n",
      "np                         module          <module 'numpy' from 'c:\\<...>ges\\\\numpy\\\\__init__.py'>\n",
      "numCoCs                    int             380\n",
      "os                         module          <module 'os' (frozen)>\n",
      "pd                         module          <module 'pandas' from 'c:<...>es\\\\pandas\\\\__init__.py'>\n",
      "plt                        module          <module 'matplotlib.pyplo<...>\\\\matplotlib\\\\pyplot.py'>\n",
      "state                      str             Wyoming\n",
      "state_abbreviations        list            n=50\n",
      "states                     list            n=50\n",
      "warnings                   module          <module 'warnings' from '<...>on312\\\\Lib\\\\warnings.py'>\n",
      "            AL_500      AL_501      AL_502      AL_503      AL_504  \\\n",
      "CoC                                                                  \n",
      "AL_500    0.000000  203.480673   87.164712   81.774006   85.508827   \n",
      "AL_501  203.480673    0.000000  257.379363  279.601537  145.056886   \n",
      "AL_502   87.164712  257.379363    0.000000   51.905484  169.029477   \n",
      "AL_503   81.774006  279.601537   51.905484    0.000000  166.363002   \n",
      "AL_504   85.508827  145.056886  169.029477  166.363002    0.000000   \n",
      "\n",
      "            AL_505      AL_506      AL_507      AL_508       AK_500  ...  \\\n",
      "CoC                                                                  ...   \n",
      "AL_500   66.127834   51.206186   62.256556  163.153819  3313.591804  ...   \n",
      "AL_501  264.200622  176.465797  142.425632  142.915175  3428.426654  ...   \n",
      "AL_502  107.258748   82.293803  135.017153  247.912473  3226.664571  ...   \n",
      "AL_503   66.428368  105.722426  142.673257  241.967259  3244.020027  ...   \n",
      "AL_504  128.931653   98.999199   42.183269   78.932140  3394.337527  ...   \n",
      "\n",
      "             WA_508      WV_500      WV_501      WV_503      WV_508  \\\n",
      "CoC                                                                   \n",
      "AL_500  2063.402981  553.669656  406.880274  438.253614  496.263127   \n",
      "AL_501  2119.021281  752.797306  606.528834  635.087612  689.955307   \n",
      "AL_502  1979.607416  537.343165  392.683419  429.630376  491.780256   \n",
      "AL_503  2013.174055  492.954740  347.066339  382.551865  443.849328   \n",
      "AL_504  2130.235957  610.891015  465.501650  492.227995  545.862613   \n",
      "\n",
      "            WI_500      WI_501      WI_502      WI_503       WY_500  \n",
      "CoC                                                                  \n",
      "AL_500  793.552620  660.273378  643.020278  677.135527  1303.650030  \n",
      "AL_501  969.398179  846.269737  828.348361  854.309001  1369.152066  \n",
      "AL_502  717.150214  589.686606  571.922755  601.159393  1219.385731  \n",
      "AL_503  712.747241  578.553230  561.339346  596.288113  1252.538962  \n",
      "AL_504  878.904065  744.612051  727.498858  762.466290  1372.071626  \n",
      "\n",
      "[5 rows x 380 columns]\n"
     ]
    }
   ],
   "source": [
    "# Generate distance matrix\n",
    "%run ./optimization/coc-distance.ipynb\n",
    "%whos\n",
    "\n",
    "# print(coc_distance_matrix.head())"
   ]
  },
  {
   "cell_type": "code",
   "execution_count": 6,
   "id": "a22c1b7d",
   "metadata": {},
   "outputs": [],
   "source": [
    "# Set up Gurobi environment\n",
    "env = gp.Env(empty=True)\n",
    "env.setParam('OutputFlag', 0)\n",
    "env.start()\n",
    "\n",
    "# Initialize the model\n",
    "m = gp.Model(env=env)"
   ]
  },
  {
   "cell_type": "code",
   "execution_count": 7,
   "id": "9f2e7d21",
   "metadata": {},
   "outputs": [],
   "source": [
    "# High level variables + assumptions\n",
    "# Total budget allocated for uplift units\n",
    "TotalBudget = 130000000 # 50000 # 10000000\n",
    "\n",
    "# Uplift unit specification assumptions\n",
    "# Uplift Factory Spec \n",
    "FactoryCost = 10000\n",
    "\n",
    "# Uplift THU Spec \n",
    "THUCost = 5000\n",
    "\n",
    "# Uplift Shipping Spec \n",
    "THUShippingBase = 100\n",
    "THUShippingPerMile = 1\n",
    "# Uplift Operational Spec \n",
    "# THU_to_Factory_Max_Distance = 50\n",
    "\n",
    "# Big M\n",
    "M = 999999999999999999999"
   ]
  },
  {
   "cell_type": "code",
   "execution_count": null,
   "id": "00100d95",
   "metadata": {},
   "outputs": [
    {
     "name": "stdout",
     "output_type": "stream",
     "text": [
      "            AL_500      AL_501      AL_502      AL_503      AL_504  \\\n",
      "CoC                                                                  \n",
      "AL_500    0.000000  203.480673   87.164712   81.774006   85.508827   \n",
      "AL_501  203.480673    0.000000  257.379363  279.601537  145.056886   \n",
      "AL_502   87.164712  257.379363    0.000000   51.905484  169.029477   \n",
      "AL_503   81.774006  279.601537   51.905484    0.000000  166.363002   \n",
      "AL_504   85.508827  145.056886  169.029477  166.363002    0.000000   \n",
      "\n",
      "            AL_505      AL_506      AL_507      AL_508       AK_500  ...  \\\n",
      "CoC                                                                  ...   \n",
      "AL_500   66.127834   51.206186   62.256556  163.153819  3313.591804  ...   \n",
      "AL_501  264.200622  176.465797  142.425632  142.915175  3428.426654  ...   \n",
      "AL_502  107.258748   82.293803  135.017153  247.912473  3226.664571  ...   \n",
      "AL_503   66.428368  105.722426  142.673257  241.967259  3244.020027  ...   \n",
      "AL_504  128.931653   98.999199   42.183269   78.932140  3394.337527  ...   \n",
      "\n",
      "             WA_508      WV_500      WV_501      WV_503      WV_508  \\\n",
      "CoC                                                                   \n",
      "AL_500  2063.402981  553.669656  406.880274  438.253614  496.263127   \n",
      "AL_501  2119.021281  752.797306  606.528834  635.087612  689.955307   \n",
      "AL_502  1979.607416  537.343165  392.683419  429.630376  491.780256   \n",
      "AL_503  2013.174055  492.954740  347.066339  382.551865  443.849328   \n",
      "AL_504  2130.235957  610.891015  465.501650  492.227995  545.862613   \n",
      "\n",
      "            WI_500      WI_501      WI_502      WI_503       WY_500  \n",
      "CoC                                                                  \n",
      "AL_500  793.552620  660.273378  643.020278  677.135527  1303.650030  \n",
      "AL_501  969.398179  846.269737  828.348361  854.309001  1369.152066  \n",
      "AL_502  717.150214  589.686606  571.922755  601.159393  1219.385731  \n",
      "AL_503  712.747241  578.553230  561.339346  596.288113  1252.538962  \n",
      "AL_504  878.904065  744.612051  727.498858  762.466290  1372.071626  \n",
      "\n",
      "[5 rows x 380 columns]\n"
     ]
    }
   ],
   "source": [
    "# City distance data. What to use as baseline? Generate dictionary for all cities? (500-ish)\n",
    "print(coc_distance_matrix.head())\n",
    "# city_distance = {\n",
    "#                  \"SF\": {\"SF\": 0, \"Boston\": 3000, \"NYC\": 2900}, \n",
    "#                  \"Boston\": {\"SF\": 3000, \"Boston\": 0, \"NYC\": 215},\n",
    "#                  \"NYC\": {\"SF\": 2900, \"Boston\": 215, \"NYC\": 0}\n",
    "#                  }\n",
    "\n"
   ]
  },
  {
   "cell_type": "code",
   "execution_count": null,
   "id": "8063d893",
   "metadata": {},
   "outputs": [
    {
     "name": "stdout",
     "output_type": "stream",
     "text": [
      "{0: 'SF', 1: 'Boston', 2: 'NYC'}\n"
     ]
    }
   ],
   "source": [
    "# CoC Data/homeless population\n",
    "# CoCPopulations = {\"SF\": 8300, \"Boston\": 6000, \"NYC\": 350000}\n",
    "CoCPopulations = {\"SF\": 9000, \"Boston\": 6000, \"NYC\": 15000}\n",
    "# CoCPopulations = {\"SF\": 5000, \"Boston\": 5000, \"NYC\": 5000}\n",
    "\n",
    "\n",
    "# Number of cities\n",
    "NumCities = numCoCs\n",
    "\n",
    "# Number of factory locations available (equivalent to cities)\n",
    "# todo: rename var\n",
    "NumFactories = numCoCs\n",
    "\n",
    "# ordered dict for version < 3.7; assumed same order in version >= 3.7\n",
    "# indices = range(len(CoCPopulations))\n",
    "# cities = CoCPopulations.keys()\n",
    "# indexToCityDict = dict(zip(indices, cities))\n",
    "# def indexToCity(index):\n",
    "#     return indexToCityDict[index]\n",
    "\n",
    "# print(indexToCityDict)"
   ]
  },
  {
   "cell_type": "code",
   "execution_count": 469,
   "id": "2905093f",
   "metadata": {},
   "outputs": [],
   "source": [
    "# Decision variables\n",
    "# How many homes to place per city\n",
    "THU = m.addVars((t for t in range(0, NumCities)), lb=0, name=\"THUQuantityPerCity\")\n",
    "\n",
    "# Where to place factories (also # of factories)\n",
    "Factory = m.addVars((t for t in range(0, NumFactories)), vtype=GRB.BINARY, name=\"FactoryLocations\")\n",
    "\n",
    "# How many THUs shipped from a given factory\n",
    "THUShippedFromFactory = m.addMVar((NumCities, NumFactories), name=\"ClosestFactory\", lb=0)\n",
    "# City = m.addVars(((i, j) for i in range(0, NumCities) for j in range(0, NumFactories)), lb=0, ub = 1, name=\"ClosestFactory\")\n"
   ]
  },
  {
   "cell_type": "code",
   "execution_count": null,
   "id": "adca3c22",
   "metadata": {},
   "outputs": [],
   "source": [
    "# Constraints\n",
    "# Budget constraint\n",
    "# sum cost of all the THUs + \n",
    "# sum cost of all the factories + \n",
    "# sum cost of transportation of THUs from all the factories = # produced in city * closest factory * distance to factory * shipping cost per mile\n",
    "budgetConstr = m.addConstr((sum(THU[cityIndex]*THUCost for cityIndex in range(0, NumCities)) + \n",
    "                              FactoryCost*sum(Factory[factory] for factory in range(NumFactories)) +\n",
    "                              sum(THUShippedFromFactory[(cityIndex, factory)]*coc_distance_matrix.iloc[cityIndex, factory])*THUShippingPerMile \n",
    "                              for cityIndex in range(NumCities) for factory in range(NumFactories))) <= TotalBudget, name='BudgetConstr')\n",
    "\n",
    "# Unhoused population (allocate no more than # unhoused)\n",
    "popConstr = m.addConstrs(THU[cityIndex] <= CoCPopulations[indexToCity(cityIndex)] for cityIndex in range(0, NumCities))\n",
    "\n",
    "# sum of THUs shipped needs to equal THUs in location\n",
    "THUTotal = m.addConstrs(sum(THUShippedFromFactory[cityIndex][factoryIndex] for factoryIndex in range(NumFactories)) == THU[cityIndex] for cityIndex in range(NumCities))\n",
    "\n",
    "# enforce no THU production if factory not selected\n",
    "THUProdatFactory = m.addConstrs(THUShippedFromFactory[cityIndex][factoryIndex] <= M*Factory[factoryIndex] for cityIndex in range(NumCities) for factoryIndex in range(NumFactories))\n",
    "\n",
    "# Todo: max and min # THUs per factory\n",
    "\n",
    "# There must be at least one factory in total\n",
    "factoryConstr = m.addConstr(sum(Factory[factory] for factory in range(NumFactories)) >= 1)\n"
   ]
  },
  {
   "cell_type": "code",
   "execution_count": 471,
   "id": "a9481a34",
   "metadata": {},
   "outputs": [],
   "source": [
    "# Objective function\n",
    "# Maximize number of housing units provided for unhoused populations (ie; minimize unhoused individiuals)\n",
    "m.setObjective(sum(THU[city] for city in range(0, NumCities)), gp.GRB.MAXIMIZE)\n"
   ]
  },
  {
   "cell_type": "code",
   "execution_count": 472,
   "id": "32c48ba4",
   "metadata": {},
   "outputs": [
    {
     "name": "stdout",
     "output_type": "stream",
     "text": [
      "\n",
      "Objective value:  25994.00\n"
     ]
    }
   ],
   "source": [
    "# Update and write the model\n",
    "m.update() # Update model parameters\n",
    "# m.write(\"uplift.lp\") # Write model to file\n",
    "\n",
    "# Solve\n",
    "m.optimize()\n",
    "\n",
    "# Check model is not infeasible\n",
    "if m.status == GRB.INFEASIBLE:\n",
    "    print(\"model is infeasible\")\n",
    "print(\"\\nObjective value: \", \"%.2f\" % m.getAttr(\"ObjVal\"))\n"
   ]
  },
  {
   "cell_type": "code",
   "execution_count": 473,
   "id": "a1a2d2fe",
   "metadata": {},
   "outputs": [
    {
     "name": "stdout",
     "output_type": "stream",
     "text": [
      "THUs:\n",
      "SF: 4994\n",
      "Boston: 6000\n",
      "NYC: 15000\n",
      "Factories:\n",
      "SF: 1\n",
      "Boston: 1\n",
      "NYC: 1\n",
      "Shipping from factories:\n",
      "source city: SF, factory city: SF, value: 4994\n",
      "source city: SF, factory city: Boston, value: 0\n",
      "source city: SF, factory city: NYC, value: 0\n",
      "source city: Boston, factory city: SF, value: 0\n",
      "source city: Boston, factory city: Boston, value: 6000\n",
      "source city: Boston, factory city: NYC, value: 0\n",
      "source city: NYC, factory city: SF, value: 0\n",
      "source city: NYC, factory city: Boston, value: 0\n",
      "source city: NYC, factory city: NYC, value: 15000\n",
      "Expected max budget: 130000000 actual budget: 130000000.0\n",
      "THU cost:  129970000.0\n",
      "Factory cost: 30000.0\n",
      "THU ship cost: 0.0\n"
     ]
    }
   ],
   "source": [
    "# Print solution\n",
    "print(\"THUs:\")\n",
    "for i in THU:\n",
    "    # if THU[i].x > 0:\n",
    "        print('%s: %g' % (indexToCity(i), THU[i].x))\n",
    "\n",
    "print(\"Factories:\")\n",
    "for i in Factory:\n",
    "    # if THU[i].x > 0:\n",
    "        print('%s: %g' % (indexToCity(i), Factory[i].x))\n",
    "\n",
    "print(\"Shipping from factories:\")\n",
    "for i in range(NumCities):\n",
    "    for j in range(NumFactories):\n",
    "    # if THU[i].x > 0:\n",
    "        print('source city: %s, factory city: %s, value: %g' % (indexToCity(i), indexToCity(j), THUShippedFromFactory[i][j].x))\n",
    "\n",
    "THUExpense = sum(THU[cityIndex].x*THUCost for cityIndex in range(0, NumCities))\n",
    "FactoryExpense = FactoryCost*sum(Factory[factory].x for factory in range(NumFactories))\n",
    "shipCost = sum(THUShippedFromFactory[cityIndex][factory].x*city_distance[indexToCity(cityIndex)][indexToCity(factory)]*THUShippingPerMile for cityIndex in range(NumCities) for factory in range(NumFactories))\n",
    "print(\"Expected max budget: \" + str(TotalBudget) + \" actual budget: \" + str(THUExpense + FactoryExpense + shipCost))\n",
    "print(\"THU cost: \", THUExpense)\n",
    "print(\"Factory cost: \" + str(FactoryExpense))\n",
    "print(\"THU ship cost: \" + str(shipCost))"
   ]
  },
  {
   "cell_type": "markdown",
   "id": "325e873b",
   "metadata": {},
   "source": [
    "#### Analysis of optimization results\n",
    "beep boop"
   ]
  },
  {
   "cell_type": "markdown",
   "id": "17ae27d5",
   "metadata": {},
   "source": []
  }
 ],
 "metadata": {
  "kernelspec": {
   "display_name": "Python 3",
   "language": "python",
   "name": "python3"
  },
  "language_info": {
   "codemirror_mode": {
    "name": "ipython",
    "version": 3
   },
   "file_extension": ".py",
   "mimetype": "text/x-python",
   "name": "python",
   "nbconvert_exporter": "python",
   "pygments_lexer": "ipython3",
   "version": "3.12.6"
  }
 },
 "nbformat": 4,
 "nbformat_minor": 5
}

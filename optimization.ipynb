{
 "cells": [
  {
   "cell_type": "markdown",
   "id": "a9ae93cd",
   "metadata": {},
   "source": [
    "### Optimizing Temporary Housing Deployment to Reduce U.S. Homelessness \n",
    "Nauman Sohani, Yannan Tuo, Charlie Nitschelm"
   ]
  },
  {
   "cell_type": "code",
   "execution_count": 219,
   "id": "885f71d5",
   "metadata": {},
   "outputs": [],
   "source": [
    "# Load packages\n",
    "import gurobipy as gp\n",
    "from gurobipy import GRB\n",
    "import pandas as pd\n",
    "import numpy as np\n",
    "import matplotlib.pyplot as plt"
   ]
  },
  {
   "cell_type": "code",
   "execution_count": 220,
   "id": "a2eed4e2",
   "metadata": {},
   "outputs": [
    {
     "name": "stdout",
     "output_type": "stream",
     "text": [
      "Variable                Type         Data/Info\n",
      "----------------------------------------------\n",
      "CoCPopulations          dict         n=3\n",
      "Factory                 tupledict    {0: <gurobi.Var FactoryLo<...>cations[2] (value -0.0)>}\n",
      "FactoryCost             int          1000\n",
      "GRB                     type         <class 'gurobipy._grb.GRB'>\n",
      "NumCities               int          3\n",
      "NumFactories            int          3\n",
      "THU                     tupledict    {0: <gurobi.Var THUQuanti<...>yPerCity[2] (value 0.0)>}\n",
      "THUClosestFactoryCity   tupledict    {(0, 0): <gurobi.Var Clos<...>actory[2,2] (value 0.0)>}\n",
      "THUCost                 int          50000\n",
      "THUShippingBase         int          100\n",
      "THUShippingPerMile      int          1\n",
      "TotalBudget             int          50000000\n",
      "budgetConstr            QConstr      <gurobi.QConstr BudgetConstr>\n",
      "cities                  dict_keys    dict_keys(['SF', 'Boston', 'NYC'])\n",
      "city_distance           dict         n=3\n",
      "closestFactoryConstr    tupledict    {0: <gurobi.Constr R4>, 1<...>>, 2: <gurobi.Constr R6>}\n",
      "cost_matrix             dict         n=3\n",
      "env                     Env          <gurobipy.Env, Parameter <...>ID=2678031, OutputFlag=0>\n",
      "factoryConstr           Constr       <gurobi.Constr R3>\n",
      "factoryConstr2          Constr       <gurobi.Constr *Awaiting Model Update*>\n",
      "factoryLimit            tupledict    {(0, 0): <gurobi.Constr R<...> 2): <gurobi.Constr R15>}\n",
      "gp                      module       <module 'gurobipy' from '<...>\\\\gurobipy\\\\__init__.py'>\n",
      "i                       int          2\n",
      "indexToCity             function     <function indexToCity at 0x0000029533320EA0>\n",
      "indexToCityDict         dict         n=3\n",
      "indices                 range        range(0, 3)\n",
      "j                       int          2\n",
      "m                       Model        <gurobi.Model MIP instanc<...>ID=2678031, OutputFlag=0>\n",
      "np                      module       <module 'numpy' from 'c:\\<...>ges\\\\numpy\\\\__init__.py'>\n",
      "pd                      module       <module 'pandas' from 'c:<...>es\\\\pandas\\\\__init__.py'>\n",
      "plt                     module       <module 'matplotlib.pyplo<...>\\\\matplotlib\\\\pyplot.py'>\n",
      "popConstr               tupledict    {0: <gurobi.Constr R0>, 1<...>>, 2: <gurobi.Constr R2>}\n"
     ]
    }
   ],
   "source": [
    "# Import datasets\n",
    "# from <data_source> import *\n",
    "%whos"
   ]
  },
  {
   "cell_type": "code",
   "execution_count": 221,
   "id": "a22c1b7d",
   "metadata": {},
   "outputs": [],
   "source": [
    "# Set up Gurobi environment\n",
    "env = gp.Env(empty=True)\n",
    "env.setParam('OutputFlag', 0)\n",
    "env.start()\n",
    "\n",
    "# Initialize the model\n",
    "m = gp.Model(env=env)"
   ]
  },
  {
   "cell_type": "code",
   "execution_count": 222,
   "id": "9f2e7d21",
   "metadata": {},
   "outputs": [],
   "source": [
    "# High level variables + assumptions\n",
    "# Total budget allocated for uplift units\n",
    "TotalBudget = 50000000 # 10000000\n",
    "\n",
    "# Uplift unit specification assumptions\n",
    "# Uplift Factory Spec \n",
    "FactoryCost = 1000\n",
    "\n",
    "# Uplift THU Spec \n",
    "THUCost = 50000\n",
    "\n",
    "# Uplift Shipping Spec \n",
    "THUShippingBase = 100\n",
    "THUShippingPerMile = 1\n",
    "\n",
    "# Uplift Operational Spec \n",
    "# THU_to_Factory_Max_Distance = 50"
   ]
  },
  {
   "cell_type": "code",
   "execution_count": 223,
   "id": "00100d95",
   "metadata": {},
   "outputs": [],
   "source": [
    "# City distance data. What to use as baseline? Generate dictionary for all cities? (500-ish)\n",
    "city_distance = {\n",
    "                 \"SF\": {\"SF\": 0, \"Boston\": 3000, \"NYC\": 2900}, \n",
    "                 \"Boston\": {\"SF\": 3000, \"Boston\": 0, \"NYC\": 215},\n",
    "                 \"NYC\": {\"SF\": 2900, \"Boston\": 215, \"NYC\": 0}\n",
    "                 }\n",
    "\n",
    "cost_matrix = city_distance\n",
    "# use google maps api distance between cities\n",
    "# regex: parse out first city/county name to use as reference\n",
    "# look for comma, slash, \"Statewide\", \"CoC\", \"County,\" or \"Counties\" as separator\n",
    "# for regional locations, eg \"Southeast Arkansas\" \"Northeast Alabama\" just use default queried location (eg community college)\n",
    "# regex: is it \"county/counties\" or a city\n",
    "# tack on state (column 1), ie \"champaign, IL\" in query\n",
    "\n",
    "# get centroid from geopandas = get latitude/longitude -> get \n",
    "\n",
    "\n"
   ]
  },
  {
   "cell_type": "code",
   "execution_count": 224,
   "id": "8063d893",
   "metadata": {},
   "outputs": [
    {
     "name": "stdout",
     "output_type": "stream",
     "text": [
      "{0: 'SF', 1: 'Boston', 2: 'NYC'}\n"
     ]
    }
   ],
   "source": [
    "# CoC Data/homeless population\n",
    "CoCPopulations = {\"SF\": 8300, \"Boston\": 6000, \"NYC\": 350000}\n",
    "\n",
    "# Number of cities\n",
    "NumCities = 3\n",
    "\n",
    "# Number of factory locations available (equivalent to cities)\n",
    "# todo: rename var\n",
    "NumFactories = 3\n",
    "\n",
    "# ordered dict for version < 3.7; assumed same order in version >= 3.7\n",
    "indices = range(len(CoCPopulations))\n",
    "cities = CoCPopulations.keys()\n",
    "indexToCityDict = dict(zip(indices, cities))\n",
    "def indexToCity(index):\n",
    "    return indexToCityDict[index]\n",
    "\n",
    "print(indexToCityDict)"
   ]
  },
  {
   "cell_type": "code",
   "execution_count": 225,
   "id": "2905093f",
   "metadata": {},
   "outputs": [],
   "source": [
    "# Decision variables\n",
    "# How many homes to place per city\n",
    "THU = m.addVars((t for t in range(0, NumCities)), lb=0, name=\"THUQuantityPerCity\")\n",
    "\n",
    "# Where to place factories\n",
    "Factory = m.addVars((t for t in range(0, NumFactories)), vtype=GRB.BINARY, name=\"FactoryLocations\")\n",
    "\n",
    "# What factory services the THU\n",
    "# THUClosestFactoryCity = m.addVars((t for t in range(0, NumCities)), lb=0, name=\"ClosestFactory\")\n",
    "\n",
    "# city-factory combo\n",
    "# THUClosestFactoryCity = m.addVars((t for t in range(0, NumCities)), lb=0, name=\"ClosestFactory\")\n",
    "THUClosestFactoryCity = m.addVars(((i, j) for i in range(0, NumCities) for j in range(0, NumFactories)), vtype=GRB.BINARY, name=\"ClosestFactory\")\n",
    "# THUClosestFactoryCity = m.addVars(((i, j) for i in range(0, NumCities) for j in range(0, NumFactories)), lb=0, ub = 1, name=\"ClosestFactory\")\n"
   ]
  },
  {
   "cell_type": "code",
   "execution_count": 226,
   "id": "adca3c22",
   "metadata": {},
   "outputs": [],
   "source": [
    "# Constraints\n",
    "# Budget constraint\n",
    "# sum cost of all the THUs + \n",
    "# sum cost of all the factories + \n",
    "# sum cost of transportation of THUs from all the factories = # produced in city * closest factory * distance to factory * shipping cost per mile\n",
    "budgetConstr = m.addConstr((sum(THU[cityIndex]*THUCost for cityIndex in range(0, NumCities)) + \n",
    "                              FactoryCost*sum(Factory[factory] for factory in range(NumFactories)) +\n",
    "                              sum(THU[cityIndex]*THUClosestFactoryCity[(cityIndex, factory)]*city_distance[indexToCity(cityIndex)][indexToCity(factory)]*THUShippingPerMile \n",
    "                              for cityIndex in range(NumCities) for factory in range(NumFactories))) <= TotalBudget, name='BudgetConstr')\n",
    "\n",
    "# Unhoused population (allocate no more than # unhoused)\n",
    "popConstr = m.addConstrs(THU[cityIndex] <= CoCPopulations[indexToCity(cityIndex)] for cityIndex in range(0, NumCities))\n",
    "\n",
    "# There must be at least one factory in total\n",
    "factoryConstr = m.addConstr(sum(Factory[factory] for factory in range(0, NumCities)) >= 1)\n",
    "\n",
    "# Each city can only have one closest city for the factory\n",
    "closestFactoryConstr = m.addConstrs(sum(THUClosestFactoryCity[(cityIndex, factory)] for factory in range(NumCities)) == 1 for cityIndex in range(NumCities))\n",
    "\n",
    "# Closest factory for a city must be a selected factory \n",
    "factoryLimit = m.addConstrs(THUClosestFactoryCity[(cityIndex, factory)] <= Factory[factory] for cityIndex in range(NumCities) for factory in range(NumFactories))\n"
   ]
  },
  {
   "cell_type": "code",
   "execution_count": 227,
   "id": "65d13abb",
   "metadata": {},
   "outputs": [],
   "source": [
    "# Ignore: old ref\n",
    "# # fixes: create decision variable to set closest factory per city? (should naturally select closest factory)\n",
    "\n",
    "# for cityIndex in range(NumCities):\n",
    "#     nearestFactoryCity = findClosestFactory(indexToCity(cityIndex))\n",
    "#     THU[cityIndex]*THUCost + THU[cityIndex]*city_distance[indexToCity(cityIndex)]*THUShippingPerMile\n",
    "# m.addConstr(sum(costs) <= TotalBudget, name='BudgetConst')\n",
    "\n",
    "\n",
    "# city * min_factory_distance * shipping_per_mile\n",
    "# how to get min_factory_distance\n",
    "# * min([city_distance[for every city] where factory_selected])\n",
    "# factory_selected has to be true (assume 1)\n",
    "\n",
    "# Budget\n",
    "# budgetConstr = m.addConstr(sum(THU[cityIndex]*THUCost + \n",
    "#                                THU[cityIndex]*min(city_distance[indexToCity(cityIndex)])*THUShippingPerMile \n",
    "#                                for cityIndex in range(0, NumCities)) <= TotalBudget, name='BudgetConst')\n",
    "# budgetConstr = m.addConstr(sum(THU[cityIndex]*THUCost + THU[cityIndex]*min(city_distance[indexToCity(factoryCityIndex)] for factoryCityIndex in range(0, NumCities) if Factory[factoryCityIndex] == True)*THUShippingPerMile for cityIndex in range(0, NumCities)) <= TotalBudget, name='BudgetConst'\n",
    "\n",
    "# budgetConstr = m.addConstr(sum(THU[cityIndex]*THUCost + \n",
    "#                                THU[cityIndex]*city_distance[indexToCity(THUClosestFactoryCity[cityIndex])]*THUShippingPerMile \n",
    "#                                for cityIndex in range(0, NumCities)) <= TotalBudget, name='BudgetConstr')\n",
    "\n",
    "\n",
    "# sum(THU[cityIndex]* cost * min(selected_or_not) for cost in cost matrix(for city))\n",
    "# pick min of selected_or_not\n",
    "# selected_or_not applies to all cities\n",
    "\n",
    "# budgetConstr = m.addConstr(sum(THU[cityIndex]*THUCost + THU[cityIndex]*cost_matrix[cityIndex]*THUShippingPerMile for cityIndex in range(0, NumCities)) <= TotalBudget, name='BudgetConstr')\n"
   ]
  },
  {
   "cell_type": "code",
   "execution_count": 228,
   "id": "a9481a34",
   "metadata": {},
   "outputs": [],
   "source": [
    "# Objective function\n",
    "# Maximize number of housing units provided for unhoused populations (ie; minimize unhoused individiuals)\n",
    "m.setObjective(sum(THU[city] for city in range(0, NumCities)), gp.GRB.MAXIMIZE)\n"
   ]
  },
  {
   "cell_type": "code",
   "execution_count": 229,
   "id": "32c48ba4",
   "metadata": {},
   "outputs": [
    {
     "name": "stdout",
     "output_type": "stream",
     "text": [
      "\n",
      "Objective value:  999.94\n"
     ]
    }
   ],
   "source": [
    "# Update and write the model\n",
    "m.update() # Update model parameters\n",
    "# m.write(\"uplift.lp\") # Write model to file\n",
    "\n",
    "# Solve\n",
    "m.optimize()\n",
    "\n",
    "# Check model is not infeasible\n",
    "if m.status == GRB.INFEASIBLE:\n",
    "    print(\"model is infeasible\")\n",
    "print(\"\\nObjective value: \", \"%.2f\" % m.getAttr(\"ObjVal\"))\n"
   ]
  },
  {
   "cell_type": "code",
   "execution_count": 230,
   "id": "a1a2d2fe",
   "metadata": {},
   "outputs": [
    {
     "name": "stdout",
     "output_type": "stream",
     "text": [
      "SF: 999.94\n",
      "Boston: 0\n",
      "NYC: 0\n",
      "SF: 1\n",
      "Boston: 1\n",
      "NYC: 1\n",
      "source city: SF, factory city: SF, value: 1\n",
      "source city: SF, factory city: Boston, value: -0\n",
      "source city: SF, factory city: NYC, value: -0\n",
      "source city: Boston, factory city: SF, value: -0\n",
      "source city: Boston, factory city: Boston, value: 1\n",
      "source city: Boston, factory city: NYC, value: -0\n",
      "source city: NYC, factory city: SF, value: -0\n",
      "source city: NYC, factory city: Boston, value: -0\n",
      "source city: NYC, factory city: NYC, value: 1\n",
      "THU cost:  49997000.0\n",
      "Factory cost: 3000.0\n",
      "THU ship cost: 0.0\n"
     ]
    }
   ],
   "source": [
    "# Print solution\n",
    "for i in THU:\n",
    "    # if THU[i].x > 0:\n",
    "        print('%s: %g' % (indexToCity(i), THU[i].x))\n",
    "\n",
    "for i in Factory:\n",
    "    # if THU[i].x > 0:\n",
    "        print('%s: %g' % (indexToCity(i), Factory[i].x))\n",
    "\n",
    "\n",
    "for i in range(NumCities):\n",
    "    for j in range(NumFactories):\n",
    "    # if THU[i].x > 0:\n",
    "        print('source city: %s, factory city: %s, value: %g' % (indexToCity(i), indexToCity(j), THUClosestFactoryCity[(i, j)].x))\n",
    "\n",
    "print(\"THU cost: \", sum(THU[cityIndex].x*THUCost for cityIndex in range(0, NumCities)))\n",
    "print(\"Factory cost: \" + str(FactoryCost*sum(Factory[factory].x for factory in range(NumFactories))))\n",
    "print(\"THU ship cost: \" + str(sum(THU[cityIndex].x*THUClosestFactoryCity[(cityIndex, factory)].x*city_distance[indexToCity(cityIndex)][indexToCity(factory)]*THUShippingPerMile for cityIndex in range(NumCities) for factory in range(NumFactories))))"
   ]
  },
  {
   "cell_type": "markdown",
   "id": "325e873b",
   "metadata": {},
   "source": [
    "#### Analysis of optimization results\n",
    "beep boop"
   ]
  },
  {
   "cell_type": "markdown",
   "id": "17ae27d5",
   "metadata": {},
   "source": []
  }
 ],
 "metadata": {
  "kernelspec": {
   "display_name": "Python 3",
   "language": "python",
   "name": "python3"
  },
  "language_info": {
   "codemirror_mode": {
    "name": "ipython",
    "version": 3
   },
   "file_extension": ".py",
   "mimetype": "text/x-python",
   "name": "python",
   "nbconvert_exporter": "python",
   "pygments_lexer": "ipython3",
   "version": "3.12.6"
  }
 },
 "nbformat": 4,
 "nbformat_minor": 5
}

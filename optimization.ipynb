{
 "cells": [
  {
   "cell_type": "markdown",
   "id": "a9ae93cd",
   "metadata": {},
   "source": [
    "### Optimizing Temporary Housing Deployment to Reduce U.S. Homelessness \n",
    "Nauman Sohani, Yannan Tuo, Charlie Nitschelm"
   ]
  },
  {
   "cell_type": "code",
   "execution_count": 44,
   "id": "885f71d5",
   "metadata": {},
   "outputs": [],
   "source": [
    "# Load packages\n",
    "import gurobipy as gp\n",
    "from gurobipy import GRB\n",
    "import pandas as pd\n",
    "import numpy as np\n",
    "import matplotlib.pyplot as plt\n"
   ]
  },
  {
   "cell_type": "code",
   "execution_count": 45,
   "id": "a2eed4e2",
   "metadata": {},
   "outputs": [
    {
     "name": "stdout",
     "output_type": "stream",
     "text": [
      "Variable                   Type            Data/Info\n",
      "----------------------------------------------------\n",
      "CoCPopulations             DataFrame                   Overall_Homel<...>502                5918.0\n",
      "CoC_populations            DataFrame                   Overall_Homel<...>502                5918.0\n",
      "Factory                    tupledict       {0: <gurobi.Var *Awaiting<...>*Awaiting Model Update*>}\n",
      "FactoryCost                int             10000\n",
      "GRB                        type            <class 'gurobipy._grb.GRB'>\n",
      "M                          int             999999999999999999999\n",
      "NumCities                  int             13\n",
      "NumFactories               int             13\n",
      "Path                       type            <class 'pathlib.Path'>\n",
      "R                          float           3958.8\n",
      "THU                        tupledict       {0: <gurobi.Var *Awaiting<...>*Awaiting Model Update*>}\n",
      "THUCost                    int             5000\n",
      "THUShippedFromFactory      MVar            <MVar (13, 13)>\\narray([[<...>waiting Model Update*>]])\n",
      "THUShippingBase            int             100\n",
      "THUShippingPerMile         int             1\n",
      "TotalBudget                int             130000000\n",
      "abbreviation               str             AZ\n",
      "abbreviation_state_pairs   list            n=3\n",
      "avg_lat                    float64         33.35086543944726\n",
      "avg_lon                    float64         -112.49129738094153\n",
      "budgetConstr               MConstr         <MConstr ()>\n",
      "centroids                  GeoSeries       0    POINT (-112.4913 33.35087)\\ndtype: geometry\n",
      "city_distance              dict            n=3\n",
      "coc                        str             AZ_502\n",
      "coc_dest                   str             AZ_502\n",
      "coc_distance_arr           list            n=13\n",
      "coc_distance_matrix        DataFrame                    AK_500      <...> 95.797626     0.000000  \n",
      "coc_lon_lat                dict            n=13\n",
      "coc_path                   WindowsPath     c:\\Users\\yanna\\repos\\15-u<...>tate_Shapefile_AZ\\Arizona\n",
      "coc_source                 str             AZ_502\n",
      "cocs                       list            n=13\n",
      "cost_matrix                dict            n=3\n",
      "directory                  WindowsPath     c:\\Users\\yanna\\repos\\15-uplift\n",
      "distance                   float           0.0\n",
      "env                        Env             <gurobipy.Env, Parameter <...>ID=2678031, OutputFlag=0>\n",
      "gdf                        GeoDataFrame       ST STATE_NAME  COCNUM <...>\\n\\n[1 rows x 47 columns]\n",
      "gp                         module          <module 'gurobipy' from '<...>\\\\gurobipy\\\\__init__.py'>\n",
      "gpd                        module          <module 'geopandas' from <...>\\geopandas\\\\__init__.py'>\n",
      "haversine_dist             function        <function haversine_dist at 0x0000025775AA7600>\n",
      "latitudes                  Series          0    33.350865\\ndtype: float64\n",
      "lon_lat_dest               tuple           n=2\n",
      "lon_lat_source             tuple           n=2\n",
      "longitudes                 Series          0   -112.491297\\ndtype: float64\n",
      "m                          Model           <gurobi.Model Continuous <...>ID=2678031, OutputFlag=0>\n",
      "math                       module          <module 'math' (built-in)>\n",
      "np                         module          <module 'numpy' from 'c:\\<...>ges\\\\numpy\\\\__init__.py'>\n",
      "numCoCs                    int             13\n",
      "os                         module          <module 'os' (frozen)>\n",
      "pd                         module          <module 'pandas' from 'c:<...>es\\\\pandas\\\\__init__.py'>\n",
      "plt                        module          <module 'matplotlib.pyplo<...>\\\\matplotlib\\\\pyplot.py'>\n",
      "state                      str             Arizona\n",
      "state_abbreviations        list            n=3\n",
      "states                     list            n=3\n",
      "warnings                   module          <module 'warnings' from '<...>on312\\\\Lib\\\\warnings.py'>\n"
     ]
    }
   ],
   "source": [
    "# Generate distance matrix\n",
    "%run ./optimization/coc-distance.ipynb\n",
    "%whos\n",
    "\n",
    "# print(coc_distance_matrix.head())"
   ]
  },
  {
   "cell_type": "code",
   "execution_count": 46,
   "id": "a22c1b7d",
   "metadata": {},
   "outputs": [],
   "source": [
    "# Set up Gurobi environment\n",
    "env = gp.Env(empty=True)\n",
    "env.setParam('OutputFlag', 0)\n",
    "env.start()\n",
    "\n",
    "# Initialize the model\n",
    "m = gp.Model(env=env)"
   ]
  },
  {
   "cell_type": "code",
   "execution_count": 77,
   "id": "9f2e7d21",
   "metadata": {},
   "outputs": [],
   "source": [
    "# High level variables + assumptions\n",
    "# Total budget allocated for uplift units\n",
    "TotalBudget =  50000000 # 130000000 # 50000 # 10000000 # budget: 85281049.54872459\n",
    "\n",
    "# Uplift unit specification assumptions\n",
    "# Uplift Factory Spec \n",
    "FactoryCost = 10000\n",
    "\n",
    "# Uplift THU Spec \n",
    "THUCost = 5000\n",
    "\n",
    "# Uplift Shipping Spec \n",
    "THUShippingBase = 100\n",
    "THUShippingPerMile = 1\n",
    "# Uplift Operational Spec \n",
    "# THU_to_Factory_Max_Distance = 50\n",
    "\n",
    "# Big M\n",
    "M = 999999999999999999999"
   ]
  },
  {
   "cell_type": "code",
   "execution_count": 78,
   "id": "00100d95",
   "metadata": {},
   "outputs": [
    {
     "name": "stdout",
     "output_type": "stream",
     "text": [
      "            AK_500      AK_501      AL_500      AL_501      AL_502  \\\n",
      "CoC                                                                  \n",
      "AK_500    0.000000  203.486106   87.160716   81.768432   85.514087   \n",
      "AK_501  203.486106    0.000000  257.379363  279.601537  145.056886   \n",
      "AL_500   87.160716  257.379363    0.000000   51.905484  169.029477   \n",
      "AL_501   81.768432  279.601537   51.905484    0.000000  166.363002   \n",
      "AL_502   85.514087  145.056886  169.029477  166.363002    0.000000   \n",
      "\n",
      "            AL_503      AL_504      AL_505       AL_506       AL_507  \\\n",
      "CoC                                                                    \n",
      "AK_500   66.123683   51.208327   69.385909  3313.609196  3442.881782   \n",
      "AK_501  264.200622  176.465797  138.310623  3428.450752  3568.631386   \n",
      "AL_500  107.258748   82.293803  145.034011  3226.686336  3356.611502   \n",
      "AL_501   66.428368  105.722426  150.700450  3244.041050  3370.500964   \n",
      "AL_502  128.931653   98.999199   32.301433  3394.359610  3525.352900   \n",
      "\n",
      "             AZ_500       AZ_501       AZ_502  \n",
      "CoC                                            \n",
      "AK_500  1423.787662  1458.814074  1484.818463  \n",
      "AK_501  1396.736212  1407.169441  1445.795198  \n",
      "AL_500  1358.778983  1401.361859  1423.180895  \n",
      "AL_501  1406.492715  1451.204396  1471.950993  \n",
      "AL_502  1462.915171  1488.600256  1519.588405  \n"
     ]
    }
   ],
   "source": [
    "# City distance data\n",
    "print(coc_distance_matrix.head())\n",
    "# city_distance = {\n",
    "#                  \"SF\": {\"SF\": 0, \"Boston\": 3000, \"NYC\": 2900}, \n",
    "#                  \"Boston\": {\"SF\": 3000, \"Boston\": 0, \"NYC\": 215},\n",
    "#                  \"NYC\": {\"SF\": 2900, \"Boston\": 215, \"NYC\": 0}\n",
    "#                  }\n",
    "\n"
   ]
  },
  {
   "cell_type": "code",
   "execution_count": 79,
   "id": "8063d893",
   "metadata": {},
   "outputs": [
    {
     "name": "stdout",
     "output_type": "stream",
     "text": [
      "13\n"
     ]
    }
   ],
   "source": [
    "# CoC Data/homeless population\n",
    "# CoCPopulations = CoC_populations\n",
    "# CoCPopulations = {\"SF\": 8300, \"Boston\": 6000, \"NYC\": 350000}\n",
    "# CoCPopulations = {\"SF\": 9000, \"Boston\": 6000, \"NYC\": 15000}\n",
    "# CoCPopulations = {\"SF\": 5000, \"Boston\": 5000, \"NYC\": 5000}\n",
    "\n",
    "\n",
    "# Number of cities\n",
    "NumCities = numCoCs\n",
    "\n",
    "# Number of factory locations available (equivalent to cities)\n",
    "# todo: rename var\n",
    "NumFactories = numCoCs\n",
    "\n",
    "# ordered dict for version < 3.7; assumed same order in version >= 3.7\n",
    "indices = range(len(CoC_populations))\n",
    "# CoCs = CoC_populations['CoC_Number'].values\n",
    "indexToCityDict = dict(zip(indices, cocs))\n",
    "def indexToCity(index):\n",
    "    return indexToCityDict[index]\n",
    "\n",
    "# print(indexToCityDict)\n",
    "\n",
    "print(NumCities)"
   ]
  },
  {
   "cell_type": "code",
   "execution_count": 80,
   "id": "2905093f",
   "metadata": {},
   "outputs": [],
   "source": [
    "# Decision variables\n",
    "# How many homes to place per city\n",
    "THU = m.addVars((t for t in range(0, NumCities)), lb=0, name=\"THUQuantityPerCity\")\n",
    "\n",
    "# Where to place factories (also # of factories)\n",
    "Factory = m.addVars((t for t in range(0, NumFactories)), vtype=GRB.BINARY, name=\"FactoryLocations\")\n",
    "\n",
    "# How many THUs shipped from a given factory\n",
    "THUShippedFromFactory = m.addMVar((NumCities, NumFactories), name=\"ClosestFactory\", lb=0)\n",
    "# City = m.addVars(((i, j) for i in range(0, NumCities) for j in range(0, NumFactories)), lb=0, ub = 1, name=\"ClosestFactory\")\n"
   ]
  },
  {
   "cell_type": "code",
   "execution_count": 81,
   "id": "adca3c22",
   "metadata": {},
   "outputs": [
    {
     "name": "stderr",
     "output_type": "stream",
     "text": [
      "C:\\Users\\yanna\\AppData\\Local\\Temp\\ipykernel_33100\\3366357070.py:12: FutureWarning: Calling float on a single element Series is deprecated and will raise a TypeError in the future. Use float(ser.iloc[0]) instead\n",
      "  popConstr = m.addConstrs(THU[cityIndex] <= CoC_populations.iloc[cityIndex] for cityIndex in range(0, NumCities))\n"
     ]
    }
   ],
   "source": [
    "# Constraints\n",
    "# Budget constraint\n",
    "# sum cost of all the THUs + \n",
    "# sum cost of all the factories + \n",
    "# sum cost of transportation of THUs from all the factories = # produced in city * closest factory * distance to factory * shipping cost per mile\n",
    "budgetConstr = m.addConstr((sum(THU[cityIndex]*THUCost for cityIndex in range(0, NumCities)) + \n",
    "                              FactoryCost*sum(Factory[factory] for factory in range(NumFactories)) +\n",
    "                              sum(THUShippedFromFactory[(cityIndex, factory)]*coc_distance_matrix.iloc[cityIndex, factory]*THUShippingPerMile \n",
    "                              for cityIndex in range(NumCities) for factory in range(NumFactories))) <= TotalBudget, name='BudgetConstr')\n",
    "\n",
    "# Unhoused population (allocate no more than # unhoused)\n",
    "popConstr = m.addConstrs(THU[cityIndex] <= CoC_populations.iloc[cityIndex] for cityIndex in range(0, NumCities))\n",
    "\n",
    "# sum of THUs shipped needs to equal THUs in location\n",
    "THUTotal = m.addConstrs(sum(THUShippedFromFactory[cityIndex][factoryIndex] for factoryIndex in range(NumFactories)) == THU[cityIndex] for cityIndex in range(NumCities))\n",
    "\n",
    "# enforce no THU production if factory not selected\n",
    "THUProdatFactory = m.addConstrs(THUShippedFromFactory[cityIndex][factoryIndex] <= M*Factory[factoryIndex] for cityIndex in range(NumCities) for factoryIndex in range(NumFactories))\n",
    "\n",
    "# Todo: max and min # THUs per factory\n",
    "\n",
    "# There must be at least one factory in total\n",
    "factoryConstr = m.addConstr(sum(Factory[factory] for factory in range(NumFactories)) >= 1)\n"
   ]
  },
  {
   "cell_type": "code",
   "execution_count": 82,
   "id": "a9481a34",
   "metadata": {},
   "outputs": [],
   "source": [
    "# Objective function\n",
    "# Maximize number of housing units provided for unhoused populations (ie; minimize unhoused individiuals)\n",
    "m.setObjective(sum(THU[city] for city in range(0, NumCities)), gp.GRB.MAXIMIZE)\n"
   ]
  },
  {
   "cell_type": "code",
   "execution_count": 83,
   "id": "32c48ba4",
   "metadata": {},
   "outputs": [
    {
     "name": "stdout",
     "output_type": "stream",
     "text": [
      "\n",
      "Objective value:  9994.00\n"
     ]
    }
   ],
   "source": [
    "# Update and write the model\n",
    "m.update() # Update model parameters\n",
    "# m.write(\"uplift.lp\") # Write model to file\n",
    "\n",
    "# Solve\n",
    "m.optimize()\n",
    "\n",
    "# Check model is not infeasible\n",
    "if m.status == GRB.INFEASIBLE:\n",
    "    print(\"model is infeasible\")\n",
    "print(\"\\nObjective value: \", \"%.2f\" % m.getAttr(\"ObjVal\"))\n"
   ]
  },
  {
   "cell_type": "code",
   "execution_count": 84,
   "id": "a1a2d2fe",
   "metadata": {},
   "outputs": [
    {
     "name": "stdout",
     "output_type": "stream",
     "text": [
      "THUs:\n",
      "AK_500: 0\n",
      "AK_501: 0\n",
      "AL_500: 0\n",
      "AL_501: 0\n",
      "AL_502: 0\n",
      "AL_503: 0\n",
      "AL_504: 0\n",
      "AL_505: 0\n",
      "AL_506: 0\n",
      "AL_507: 0\n",
      "AZ_500: 2398\n",
      "AZ_501: 2179\n",
      "AZ_502: 5417\n",
      "Factories:\n",
      "AK_500: -0\n",
      "AK_501: -0\n",
      "AL_500: -0\n",
      "AL_501: -0\n",
      "AL_502: -0\n",
      "AL_503: -0\n",
      "AL_504: -0\n",
      "AL_505: -0\n",
      "AL_506: -0\n",
      "AL_507: -0\n",
      "AZ_500: 1\n",
      "AZ_501: 1\n",
      "AZ_502: 1\n",
      "Shipping from factories:\n",
      "source city: AZ_500, factory city: AZ_500, value: 2398\n",
      "source city: AZ_501, factory city: AZ_501, value: 2179\n",
      "source city: AZ_502, factory city: AZ_502, value: 5417\n",
      "Expected max budget: 50000000 actual budget: 50000000.0\n",
      "THU cost:  49970000.0\n",
      "Factory cost: 30000.0\n",
      "THU ship cost: 0.0\n"
     ]
    }
   ],
   "source": [
    "# Print solution\n",
    "print(\"THUs:\")\n",
    "for i in THU:\n",
    "    # if THU[i].x > 0:\n",
    "        print('%s: %g' % (indexToCity(i), THU[i].x))\n",
    "\n",
    "print(\"Factories:\")\n",
    "for i in Factory:\n",
    "    # if THU[i].x > 0:\n",
    "        print('%s: %g' % (indexToCity(i), Factory[i].x))\n",
    "\n",
    "print(\"Shipping from factories:\")\n",
    "for i in range(NumCities):\n",
    "    for j in range(NumFactories):\n",
    "        if THUShippedFromFactory[i][j].x> 0:\n",
    "            print('source city: %s, factory city: %s, value: %g' % (indexToCity(i), indexToCity(j), THUShippedFromFactory[i][j].x))\n",
    "\n",
    "THUExpense = sum(THU[cityIndex].x*THUCost for cityIndex in range(0, NumCities))\n",
    "FactoryExpense = FactoryCost*sum(Factory[factory].x for factory in range(NumFactories))\n",
    "shipCost = sum(THUShippedFromFactory[cityIndex][factory].x*coc_distance_matrix.iloc[cityIndex, factory]*THUShippingPerMile for cityIndex in range(NumCities) for factory in range(NumFactories))\n",
    "print(\"Expected max budget: \" + str(TotalBudget) + \" actual budget: \" + str(THUExpense + FactoryExpense + shipCost))\n",
    "print(\"THU cost: \", THUExpense)\n",
    "print(\"Factory cost: \" + str(FactoryExpense))\n",
    "print(\"THU ship cost: \" + str(shipCost))"
   ]
  },
  {
   "cell_type": "code",
   "execution_count": 75,
   "id": "5ab55dc9",
   "metadata": {},
   "outputs": [
    {
     "name": "stdout",
     "output_type": "stream",
     "text": [
      "            Overall_Homeless\n",
      "CoC_Number                  \n",
      "AK_500                1023.0\n",
      "AK_501                 761.0\n",
      "AL_500                1329.0\n",
      "AL_501                 598.0\n",
      "AL_502                 209.0\n",
      "AL_503                 536.0\n",
      "AL_504                 490.0\n",
      "AL_505                 438.0\n",
      "AL_506                 245.0\n",
      "AL_507                 716.0\n",
      "AZ_500                2398.0\n",
      "AZ_501                2179.0\n",
      "AZ_502                5918.0\n"
     ]
    }
   ],
   "source": [
    "print(CoC_populations)"
   ]
  },
  {
   "cell_type": "markdown",
   "id": "325e873b",
   "metadata": {},
   "source": [
    "#### Analysis of optimization results\n",
    "beep boop"
   ]
  },
  {
   "cell_type": "markdown",
   "id": "17ae27d5",
   "metadata": {},
   "source": []
  }
 ],
 "metadata": {
  "kernelspec": {
   "display_name": "Python 3",
   "language": "python",
   "name": "python3"
  },
  "language_info": {
   "codemirror_mode": {
    "name": "ipython",
    "version": 3
   },
   "file_extension": ".py",
   "mimetype": "text/x-python",
   "name": "python",
   "nbconvert_exporter": "python",
   "pygments_lexer": "ipython3",
   "version": "3.12.6"
  }
 },
 "nbformat": 4,
 "nbformat_minor": 5
}

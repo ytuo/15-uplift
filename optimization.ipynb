{
 "cells": [
  {
   "cell_type": "markdown",
   "id": "a9ae93cd",
   "metadata": {},
   "source": [
    "### Optimizing Temporary Housing Deployment to Reduce U.S. Homelessness \n",
    "Nauman Sohani, Yannan Tuo, Charlie Nitschelm"
   ]
  },
  {
   "cell_type": "code",
   "execution_count": 3,
   "id": "885f71d5",
   "metadata": {},
   "outputs": [],
   "source": [
    "# Load packages\n",
    "import gurobipy as gp\n",
    "from gurobipy import GRB\n",
    "import pandas as pd\n",
    "import numpy as np\n",
    "import matplotlib.pyplot as plt"
   ]
  },
  {
   "cell_type": "code",
   "execution_count": 4,
   "id": "a2eed4e2",
   "metadata": {},
   "outputs": [
    {
     "name": "stdout",
     "output_type": "stream",
     "text": [
      "Variable   Type      Data/Info\n",
      "------------------------------\n",
      "GRB        type      <class 'gurobipy._grb.GRB'>\n",
      "gp         module    <module 'gurobipy' from '<...>\\\\gurobipy\\\\__init__.py'>\n",
      "np         module    <module 'numpy' from 'c:\\<...>ges\\\\numpy\\\\__init__.py'>\n",
      "pd         module    <module 'pandas' from 'c:<...>es\\\\pandas\\\\__init__.py'>\n",
      "plt        module    <module 'matplotlib.pyplo<...>\\\\matplotlib\\\\pyplot.py'>\n"
     ]
    }
   ],
   "source": [
    "# Import datasets\n",
    "# from <data_source> import *\n",
    "%whos"
   ]
  },
  {
   "cell_type": "code",
   "execution_count": 5,
   "id": "a22c1b7d",
   "metadata": {},
   "outputs": [],
   "source": [
    "# Set up Gurobi environment\n",
    "env = gp.Env(empty=True)\n",
    "env.setParam('OutputFlag', 0)\n",
    "env.start()\n",
    "\n",
    "# Initialize the model\n",
    "m = gp.Model(env=env)"
   ]
  },
  {
   "cell_type": "code",
   "execution_count": 114,
   "id": "9f2e7d21",
   "metadata": {},
   "outputs": [],
   "source": [
    "# High level variables + assumptions\n",
    "# Total budget allocated for uplift units\n",
    "TotalBudget = 14000 # 10000000\n",
    "\n",
    "# Uplift unit specification assumptions\n",
    "# Uplift Factory Spec \n",
    "FactoryCost = 0\n",
    "\n",
    "# Uplift THU Spec \n",
    "THUCost = 5000\n",
    "\n",
    "# Uplift Shipping Spec \n",
    "THUShippingBase = 100\n",
    "THUShippingPerMile = 1\n",
    "\n",
    "# Uplift Operational Spec \n",
    "# THU_to_Factory_Max_Distance = 50"
   ]
  },
  {
   "cell_type": "code",
   "execution_count": 86,
   "id": "00100d95",
   "metadata": {},
   "outputs": [],
   "source": [
    "# City distance data. What to use as baseline? Generate dictionary for all cities? (500-ish)\n",
    "city_distance = {\"SF\": 3000, \"Boston\": 0}\n",
    "\n",
    "# use google maps api distance between cities\n"
   ]
  },
  {
   "cell_type": "code",
   "execution_count": 105,
   "id": "8063d893",
   "metadata": {},
   "outputs": [],
   "source": [
    "# CoC Data/homeless population\n",
    "CoCPopulations = {\"SF\": 8300, \"Boston\": 6000}\n",
    "\n",
    "# Number of cities\n",
    "NumCities = 2\n",
    "\n",
    "# city to index dictionary??\n",
    "# ordered dict for version < 3.7; assumed same order in version >= 3.7\n",
    "# Todo: update hardcode\n",
    "def indexToCity(index):\n",
    "    if index == 0:\n",
    "        return \"SF\"\n",
    "    else:\n",
    "        return \"Boston\""
   ]
  },
  {
   "cell_type": "code",
   "execution_count": 120,
   "id": "2905093f",
   "metadata": {},
   "outputs": [],
   "source": [
    "# Decision variables\n",
    "# How many homes to place in per city\n",
    "THUs = m.addVars((t for t in range(0, NumCities)), lb=0, name=\"THUQuantityPerCity\")\n"
   ]
  },
  {
   "cell_type": "code",
   "execution_count": 121,
   "id": "adca3c22",
   "metadata": {},
   "outputs": [],
   "source": [
    "# Constraints\n",
    "# Budget\n",
    "budgetConstr = m.addConstr(sum(THUs[cityIndex]*THUCost + THUs[cityIndex]*city_distance[indexToCity(cityIndex)]*THUShippingPerMile for cityIndex in range(0, NumCities)) <= TotalBudget, name='BudgetConst')\n",
    "\n",
    "# Unhoused population (allocate no more than # unhoused)\n",
    "Const4a = m.addConstrs(THUs[cityIndex] <= CoCPopulations[indexToCity(cityIndex)] for cityIndex in range(0, NumCities))\n"
   ]
  },
  {
   "cell_type": "code",
   "execution_count": 122,
   "id": "a9481a34",
   "metadata": {},
   "outputs": [],
   "source": [
    "# Objective function\n",
    "# Maximize number of housing units provided for unhoused populations (ie; minimize unhoused individiuals)\n",
    "m.setObjective(sum(THUs[city] for city in range(0, NumCities)), gp.GRB.MAXIMIZE)\n"
   ]
  },
  {
   "cell_type": "code",
   "execution_count": null,
   "id": "32c48ba4",
   "metadata": {},
   "outputs": [
    {
     "name": "stdout",
     "output_type": "stream",
     "text": [
      "\n",
      "Objective value:  2.80\n"
     ]
    }
   ],
   "source": [
    "# Update and write the model\n",
    "m.update() # Update model parameters\n",
    "# m.write(\"uplift.lp\") # Write model to file\n",
    "\n",
    "# Solve\n",
    "m.optimize()\n",
    "\n",
    "# Check model is not infeasible\n",
    "if m.status == GRB.INFEASIBLE:\n",
    "    print(\"model is infeasible\")\n",
    "print(\"\\nObjective value: \", \"%.2f\" % m.getAttr(\"ObjVal\"))\n"
   ]
  },
  {
   "cell_type": "code",
   "execution_count": 124,
   "id": "a1a2d2fe",
   "metadata": {},
   "outputs": [
    {
     "name": "stdout",
     "output_type": "stream",
     "text": [
      "SF: 0\n",
      "Boston: 2.8\n"
     ]
    }
   ],
   "source": [
    "# Print solution\n",
    "for i in THUs:\n",
    "    # if THUs[i].x > 0:\n",
    "        print('%s: %g' % (indexToCity(i), THUs[i].x))"
   ]
  },
  {
   "cell_type": "markdown",
   "id": "325e873b",
   "metadata": {},
   "source": [
    "#### Analysis of optimization results\n",
    "beep boop"
   ]
  }
 ],
 "metadata": {
  "kernelspec": {
   "display_name": "Python 3",
   "language": "python",
   "name": "python3"
  },
  "language_info": {
   "codemirror_mode": {
    "name": "ipython",
    "version": 3
   },
   "file_extension": ".py",
   "mimetype": "text/x-python",
   "name": "python",
   "nbconvert_exporter": "python",
   "pygments_lexer": "ipython3",
   "version": "3.12.6"
  }
 },
 "nbformat": 4,
 "nbformat_minor": 5
}

{
 "cells": [
  {
   "cell_type": "markdown",
   "id": "a9ae93cd",
   "metadata": {},
   "source": [
    "### Optimizing Temporary Housing Deployment to Reduce U.S. Homelessness \n",
    "Nauman Sohani, Yannan Tuo, Charlie Nitschelm"
   ]
  },
  {
   "cell_type": "code",
   "execution_count": 463,
   "id": "885f71d5",
   "metadata": {},
   "outputs": [],
   "source": [
    "# Load packages\n",
    "import gurobipy as gp\n",
    "from gurobipy import GRB\n",
    "import pandas as pd\n",
    "import numpy as np\n",
    "import matplotlib.pyplot as plt"
   ]
  },
  {
   "cell_type": "code",
   "execution_count": 464,
   "id": "a2eed4e2",
   "metadata": {},
   "outputs": [
    {
     "name": "stdout",
     "output_type": "stream",
     "text": [
      "Variable                Type         Data/Info\n",
      "----------------------------------------------\n",
      "CoCPopulations          dict         n=3\n",
      "Factory                 tupledict    {0: <gurobi.Var FactoryLo<...>ocations[2] (value 1.0)>}\n",
      "FactoryCost             float        90000.0\n",
      "FactoryExpense          float        270000.0\n",
      "GRB                     type         <class 'gurobipy._grb.GRB'>\n",
      "M                       int          999999999999999999999\n",
      "NumCities               int          3\n",
      "NumFactories            int          3\n",
      "THU                     tupledict    {0: <gurobi.Var THUQuanti<...>City[2] (value 15000.0)>}\n",
      "THUClosestFactoryCity   tupledict    {(0, 0): <gurobi.Var *Awa<...>*Awaiting Model Update*>}\n",
      "THUCost                 int          5000\n",
      "THUExpense              float        129970000.0\n",
      "THUProdatFactory        tupledict    {(0, 0): <MConstr ()>, (0<...>)>, (2, 2): <MConstr ()>}\n",
      "THUShippedFromFactory   MVar         <MVar (3, 3)>\\narray([[<g<...>[2,2] (value 15000.0)>]])\n",
      "THUShippingBase         int          100\n",
      "THUShippingPerMile      int          1\n",
      "THUTotal                tupledict    {0: <MConstr ()>, 1: <MCo<...>str ()>, 2: <MConstr ()>}\n",
      "THUcost                 float        129970000.0\n",
      "TotalBudget             int          130000000\n",
      "budgetConstr            MConstr      <MConstr ()>\n",
      "cities                  dict_keys    dict_keys(['SF', 'Boston', 'NYC'])\n",
      "city_distance           dict         n=3\n",
      "closestFactoryConstr    tupledict    {0: <gurobi.Constr *Await<...>*Awaiting Model Update*>}\n",
      "cost_matrix             dict         n=3\n",
      "env                     Env          <gurobipy.Env, Parameter <...>ID=2678031, OutputFlag=0>\n",
      "factoryConstr           Constr       <gurobi.Constr R16>\n",
      "factoryConstr2          Constr       <gurobi.Constr *Awaiting Model Update*>\n",
      "factoryLimit            tupledict    {(0, 0): <gurobi.Constr *<...>*Awaiting Model Update*>}\n",
      "gp                      module       <module 'gurobipy' from '<...>\\\\gurobipy\\\\__init__.py'>\n",
      "i                       int          2\n",
      "indexToCity             function     <function indexToCity at 0x00000295496B3600>\n",
      "indexToCityDict         dict         n=3\n",
      "indices                 range        range(0, 3)\n",
      "j                       int          2\n",
      "m                       Model        <gurobi.Model MIP instanc<...>ID=2678031, OutputFlag=0>\n",
      "np                      module       <module 'numpy' from 'c:\\<...>ges\\\\numpy\\\\__init__.py'>\n",
      "pd                      module       <module 'pandas' from 'c:<...>es\\\\pandas\\\\__init__.py'>\n",
      "plt                     module       <module 'matplotlib.pyplo<...>\\\\matplotlib\\\\pyplot.py'>\n",
      "popConstr               tupledict    {0: <gurobi.Constr R1>, 1<...>>, 2: <gurobi.Constr R3>}\n",
      "shipCost                float64      0.0\n"
     ]
    }
   ],
   "source": [
    "# Import datasets\n",
    "# from <data_source> import *\n",
    "%whos"
   ]
  },
  {
   "cell_type": "code",
   "execution_count": 465,
   "id": "a22c1b7d",
   "metadata": {},
   "outputs": [],
   "source": [
    "# Set up Gurobi environment\n",
    "env = gp.Env(empty=True)\n",
    "env.setParam('OutputFlag', 0)\n",
    "env.start()\n",
    "\n",
    "# Initialize the model\n",
    "m = gp.Model(env=env)"
   ]
  },
  {
   "cell_type": "code",
   "execution_count": 466,
   "id": "9f2e7d21",
   "metadata": {},
   "outputs": [],
   "source": [
    "# High level variables + assumptions\n",
    "# Total budget allocated for uplift units\n",
    "TotalBudget = 130000000 # 50000 # 10000000\n",
    "\n",
    "# Uplift unit specification assumptions\n",
    "# Uplift Factory Spec \n",
    "FactoryCost = 10000\n",
    "\n",
    "# Uplift THU Spec \n",
    "THUCost = 5000\n",
    "\n",
    "# Uplift Shipping Spec \n",
    "THUShippingBase = 100\n",
    "THUShippingPerMile = 1\n",
    "# Uplift Operational Spec \n",
    "# THU_to_Factory_Max_Distance = 50\n",
    "\n",
    "# Big M\n",
    "M = 999999999999999999999"
   ]
  },
  {
   "cell_type": "code",
   "execution_count": 467,
   "id": "00100d95",
   "metadata": {},
   "outputs": [],
   "source": [
    "# City distance data. What to use as baseline? Generate dictionary for all cities? (500-ish)\n",
    "city_distance = {\n",
    "                 \"SF\": {\"SF\": 0, \"Boston\": 3000, \"NYC\": 2900}, \n",
    "                 \"Boston\": {\"SF\": 3000, \"Boston\": 0, \"NYC\": 215},\n",
    "                 \"NYC\": {\"SF\": 2900, \"Boston\": 215, \"NYC\": 0}\n",
    "                 }\n",
    "\n",
    "cost_matrix = city_distance\n",
    "# use google maps api distance between cities\n",
    "# regex: parse out first city/county name to use as reference\n",
    "# look for comma, slash, \"Statewide\", \"CoC\", \"County,\" or \"Counties\" as separator\n",
    "# for regional locations, eg \"Southeast Arkansas\" \"Northeast Alabama\" just use default queried location (eg community college)\n",
    "# regex: is it \"county/counties\" or a city\n",
    "# tack on state (column 1), ie \"champaign, IL\" in query\n",
    "\n",
    "# get centroid from geopandas = get latitude/longitude -> get \n",
    "\n",
    "\n"
   ]
  },
  {
   "cell_type": "code",
   "execution_count": 468,
   "id": "8063d893",
   "metadata": {},
   "outputs": [
    {
     "name": "stdout",
     "output_type": "stream",
     "text": [
      "{0: 'SF', 1: 'Boston', 2: 'NYC'}\n"
     ]
    }
   ],
   "source": [
    "# CoC Data/homeless population\n",
    "# CoCPopulations = {\"SF\": 8300, \"Boston\": 6000, \"NYC\": 350000}\n",
    "CoCPopulations = {\"SF\": 9000, \"Boston\": 6000, \"NYC\": 15000}\n",
    "# CoCPopulations = {\"SF\": 5000, \"Boston\": 5000, \"NYC\": 5000}\n",
    "\n",
    "\n",
    "# Number of cities\n",
    "NumCities = 3\n",
    "\n",
    "# Number of factory locations available (equivalent to cities)\n",
    "# todo: rename var\n",
    "NumFactories = 3\n",
    "\n",
    "# ordered dict for version < 3.7; assumed same order in version >= 3.7\n",
    "indices = range(len(CoCPopulations))\n",
    "cities = CoCPopulations.keys()\n",
    "indexToCityDict = dict(zip(indices, cities))\n",
    "def indexToCity(index):\n",
    "    return indexToCityDict[index]\n",
    "\n",
    "print(indexToCityDict)"
   ]
  },
  {
   "cell_type": "code",
   "execution_count": 469,
   "id": "2905093f",
   "metadata": {},
   "outputs": [],
   "source": [
    "# Decision variables\n",
    "# How many homes to place per city\n",
    "THU = m.addVars((t for t in range(0, NumCities)), lb=0, name=\"THUQuantityPerCity\")\n",
    "\n",
    "# Where to place factories (also # of factories)\n",
    "Factory = m.addVars((t for t in range(0, NumFactories)), vtype=GRB.BINARY, name=\"FactoryLocations\")\n",
    "\n",
    "# How many THUs shipped from a given factory\n",
    "THUShippedFromFactory = m.addMVar((NumCities, NumFactories), name=\"ClosestFactory\", lb=0)\n",
    "# City = m.addVars(((i, j) for i in range(0, NumCities) for j in range(0, NumFactories)), lb=0, ub = 1, name=\"ClosestFactory\")\n"
   ]
  },
  {
   "cell_type": "code",
   "execution_count": 470,
   "id": "adca3c22",
   "metadata": {},
   "outputs": [],
   "source": [
    "# Constraints\n",
    "# Budget constraint\n",
    "# sum cost of all the THUs + \n",
    "# sum cost of all the factories + \n",
    "# sum cost of transportation of THUs from all the factories = # produced in city * closest factory * distance to factory * shipping cost per mile\n",
    "budgetConstr = m.addConstr((sum(THU[cityIndex]*THUCost for cityIndex in range(0, NumCities)) + \n",
    "                              FactoryCost*sum(Factory[factory] for factory in range(NumFactories)) +\n",
    "                              sum(THUShippedFromFactory[(cityIndex, factory)]*city_distance[indexToCity(cityIndex)][indexToCity(factory)]*THUShippingPerMile \n",
    "                              for cityIndex in range(NumCities) for factory in range(NumFactories))) <= TotalBudget, name='BudgetConstr')\n",
    "\n",
    "# Unhoused population (allocate no more than # unhoused)\n",
    "popConstr = m.addConstrs(THU[cityIndex] <= CoCPopulations[indexToCity(cityIndex)] for cityIndex in range(0, NumCities))\n",
    "\n",
    "# sum of THUs shipped needs to equal THUs in location\n",
    "THUTotal = m.addConstrs(sum(THUShippedFromFactory[cityIndex][factoryIndex] for factoryIndex in range(NumFactories)) == THU[cityIndex] for cityIndex in range(NumCities))\n",
    "\n",
    "# enforce no THU production if factory not selected\n",
    "THUProdatFactory = m.addConstrs(THUShippedFromFactory[cityIndex][factoryIndex] <= M*Factory[factoryIndex] for cityIndex in range(NumCities) for factoryIndex in range(NumFactories))\n",
    "\n",
    "# Todo: max and min # THUs per factory\n",
    "\n",
    "# There must be at least one factory in total\n",
    "factoryConstr = m.addConstr(sum(Factory[factory] for factory in range(NumFactories)) >= 1)\n"
   ]
  },
  {
   "cell_type": "code",
   "execution_count": 471,
   "id": "a9481a34",
   "metadata": {},
   "outputs": [],
   "source": [
    "# Objective function\n",
    "# Maximize number of housing units provided for unhoused populations (ie; minimize unhoused individiuals)\n",
    "m.setObjective(sum(THU[city] for city in range(0, NumCities)), gp.GRB.MAXIMIZE)\n"
   ]
  },
  {
   "cell_type": "code",
   "execution_count": 472,
   "id": "32c48ba4",
   "metadata": {},
   "outputs": [
    {
     "name": "stdout",
     "output_type": "stream",
     "text": [
      "\n",
      "Objective value:  25994.00\n"
     ]
    }
   ],
   "source": [
    "# Update and write the model\n",
    "m.update() # Update model parameters\n",
    "# m.write(\"uplift.lp\") # Write model to file\n",
    "\n",
    "# Solve\n",
    "m.optimize()\n",
    "\n",
    "# Check model is not infeasible\n",
    "if m.status == GRB.INFEASIBLE:\n",
    "    print(\"model is infeasible\")\n",
    "print(\"\\nObjective value: \", \"%.2f\" % m.getAttr(\"ObjVal\"))\n"
   ]
  },
  {
   "cell_type": "code",
   "execution_count": 473,
   "id": "a1a2d2fe",
   "metadata": {},
   "outputs": [
    {
     "name": "stdout",
     "output_type": "stream",
     "text": [
      "THUs:\n",
      "SF: 4994\n",
      "Boston: 6000\n",
      "NYC: 15000\n",
      "Factories:\n",
      "SF: 1\n",
      "Boston: 1\n",
      "NYC: 1\n",
      "Shipping from factories:\n",
      "source city: SF, factory city: SF, value: 4994\n",
      "source city: SF, factory city: Boston, value: 0\n",
      "source city: SF, factory city: NYC, value: 0\n",
      "source city: Boston, factory city: SF, value: 0\n",
      "source city: Boston, factory city: Boston, value: 6000\n",
      "source city: Boston, factory city: NYC, value: 0\n",
      "source city: NYC, factory city: SF, value: 0\n",
      "source city: NYC, factory city: Boston, value: 0\n",
      "source city: NYC, factory city: NYC, value: 15000\n",
      "Expected max budget: 130000000 actual budget: 130000000.0\n",
      "THU cost:  129970000.0\n",
      "Factory cost: 30000.0\n",
      "THU ship cost: 0.0\n"
     ]
    }
   ],
   "source": [
    "# Print solution\n",
    "print(\"THUs:\")\n",
    "for i in THU:\n",
    "    # if THU[i].x > 0:\n",
    "        print('%s: %g' % (indexToCity(i), THU[i].x))\n",
    "\n",
    "print(\"Factories:\")\n",
    "for i in Factory:\n",
    "    # if THU[i].x > 0:\n",
    "        print('%s: %g' % (indexToCity(i), Factory[i].x))\n",
    "\n",
    "print(\"Shipping from factories:\")\n",
    "for i in range(NumCities):\n",
    "    for j in range(NumFactories):\n",
    "    # if THU[i].x > 0:\n",
    "        print('source city: %s, factory city: %s, value: %g' % (indexToCity(i), indexToCity(j), THUShippedFromFactory[i][j].x))\n",
    "\n",
    "THUExpense = sum(THU[cityIndex].x*THUCost for cityIndex in range(0, NumCities))\n",
    "FactoryExpense = FactoryCost*sum(Factory[factory].x for factory in range(NumFactories))\n",
    "shipCost = sum(THUShippedFromFactory[cityIndex][factory].x*city_distance[indexToCity(cityIndex)][indexToCity(factory)]*THUShippingPerMile for cityIndex in range(NumCities) for factory in range(NumFactories))\n",
    "print(\"Expected max budget: \" + str(TotalBudget) + \" actual budget: \" + str(THUExpense + FactoryExpense + shipCost))\n",
    "print(\"THU cost: \", THUExpense)\n",
    "print(\"Factory cost: \" + str(FactoryExpense))\n",
    "print(\"THU ship cost: \" + str(shipCost))"
   ]
  },
  {
   "cell_type": "markdown",
   "id": "325e873b",
   "metadata": {},
   "source": [
    "#### Analysis of optimization results\n",
    "beep boop"
   ]
  },
  {
   "cell_type": "markdown",
   "id": "17ae27d5",
   "metadata": {},
   "source": []
  }
 ],
 "metadata": {
  "kernelspec": {
   "display_name": "Python 3",
   "language": "python",
   "name": "python3"
  },
  "language_info": {
   "codemirror_mode": {
    "name": "ipython",
    "version": 3
   },
   "file_extension": ".py",
   "mimetype": "text/x-python",
   "name": "python",
   "nbconvert_exporter": "python",
   "pygments_lexer": "ipython3",
   "version": "3.12.6"
  }
 },
 "nbformat": 4,
 "nbformat_minor": 5
}

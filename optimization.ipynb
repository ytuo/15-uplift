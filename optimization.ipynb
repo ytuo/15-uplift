{
 "cells": [
  {
   "cell_type": "markdown",
   "id": "a9ae93cd",
   "metadata": {},
   "source": [
    "### Optimizing Temporary Housing Deployment to Reduce U.S. Homelessness \n",
    "Nauman Sohani, Yannan Tuo, Charlie Nitschelm"
   ]
  },
  {
   "cell_type": "code",
   "execution_count": 7,
   "id": "885f71d5",
   "metadata": {},
   "outputs": [],
   "source": [
    "# Load packages\n",
    "import gurobipy as gp\n",
    "from gurobipy import GRB\n",
    "import pandas as pd\n",
    "import numpy as np\n",
    "import matplotlib.pyplot as plt\n"
   ]
  },
  {
   "cell_type": "code",
   "execution_count": 8,
   "id": "a2eed4e2",
   "metadata": {},
   "outputs": [
    {
     "name": "stdout",
     "output_type": "stream",
     "text": [
      "366\n",
      "366\n",
      "366\n",
      "['AK_500', 'AK_501', 'AL_500', 'AL_501', 'AL_502', 'AL_503', 'AL_504', 'AL_505', 'AL_506', 'AL_507', 'AR_500', 'AR_501', 'AR_503', 'AR_505', 'AZ_500', 'AZ_501', 'AZ_502', 'CA_500', 'CA_501', 'CA_502', 'CA_503', 'CA_504', 'CA_505', 'CA_506', 'CA_507', 'CA_508', 'CA_509', 'CA_510', 'CA_511', 'CA_512', 'CA_513', 'CA_514', 'CA_515', 'CA_516', 'CA_517', 'CA_518', 'CA_519', 'CA_520', 'CA_521', 'CA_522', 'CA_524', 'CA_525', 'CA_526', 'CA_600', 'CA_601', 'CA_602', 'CA_603', 'CA_604', 'CA_606', 'CA_607', 'CA_608', 'CA_609', 'CA_611', 'CA_612', 'CA_613', 'CA_614', 'CO_500', 'CO_503', 'CO_504', 'CT_503', 'CT_505', 'DE_500', 'FL_500', 'FL_501', 'FL_502', 'FL_503', 'FL_504', 'FL_505', 'FL_506', 'FL_507', 'FL_508', 'FL_509', 'FL_510', 'FL_511', 'FL_512', 'FL_513', 'FL_514', 'FL_515', 'FL_517', 'FL_518', 'FL_519', 'FL_520', 'FL_600', 'FL_601', 'FL_602', 'FL_603', 'FL_604', 'FL_605', 'FL_606', 'GA_500', 'GA_501', 'GA_502', 'GA_503', 'GA_504', 'GA_505', 'GA_506', 'GA_507', 'GA_508', 'HI_500', 'HI_501', 'IA_500', 'IA_501', 'IA_502', 'ID_500', 'ID_501', 'IL_500', 'IL_501', 'IL_502', 'IL_503', 'IL_504', 'IL_506', 'IL_507', 'IL_508', 'IL_510', 'IL_511', 'IL_512', 'IL_513', 'IL_514', 'IL_515', 'IL_516', 'IL_517', 'IL_518', 'IL_519', 'IL_520', 'IN_502', 'IN_503', 'KS_502', 'KS_503', 'KS_505', 'KS_507', 'KY_500', 'KY_501', 'KY_502', 'LA_500', 'LA_502', 'LA_503', 'LA_505', 'LA_506', 'LA_507', 'MA_500', 'MA_502', 'MA_503', 'MA_504', 'MA_505', 'MA_506', 'MA_507', 'MA_509', 'MA_511', 'MA_515', 'MA_516', 'MD_501', 'MD_503', 'MD_504', 'MD_505', 'MD_506', 'MD_511', 'MD_513', 'MD_600', 'MD_601', 'ME_500', 'MI_500', 'MI_501', 'MI_502', 'MI_503', 'MI_504', 'MI_505', 'MI_506', 'MI_507', 'MI_508', 'MI_509', 'MI_510', 'MI_511', 'MI_512', 'MI_514', 'MI_515', 'MI_516', 'MI_517', 'MI_518', 'MI_519', 'MI_523', 'MN_500', 'MN_501', 'MN_502', 'MN_503', 'MN_504', 'MN_505', 'MN_506', 'MN_508', 'MN_509', 'MN_511', 'MO_500', 'MO_501', 'MO_503', 'MO_600', 'MO_602', 'MO_603', 'MO_606', 'MS_500', 'MS_501', 'MS_503', 'MT_500', 'NC_500', 'NC_501', 'NC_502', 'NC_503', 'NC_504', 'NC_505', 'NC_506', 'NC_507', 'NC_509', 'NC_511', 'NC_513', 'NC_516', 'ND_500', 'NE_500', 'NE_501', 'NE_502', 'NH_500', 'NH_501', 'NH_502', 'NJ_500', 'NJ_501', 'NJ_502', 'NJ_503', 'NJ_504', 'NJ_506', 'NJ_507', 'NJ_508', 'NJ_509', 'NJ_510', 'NJ_511', 'NJ_512', 'NJ_513', 'NJ_514', 'NJ_515', 'NJ_516', 'NM_500', 'NM_501', 'NV_500', 'NV_501', 'NV_502', 'NY_500', 'NY_501', 'NY_503', 'NY_505', 'NY_507', 'NY_508', 'NY_510', 'NY_511', 'NY_512', 'NY_513', 'NY_514', 'NY_518', 'NY_519', 'NY_520', 'NY_522', 'NY_523', 'NY_600', 'NY_601', 'NY_602', 'NY_603', 'NY_604', 'NY_606', 'NY_608', 'OH_500', 'OH_501', 'OH_502', 'OH_503', 'OH_504', 'OH_505', 'OH_506', 'OH_507', 'OH_508', 'OK_500', 'OK_501', 'OK_502', 'OK_503', 'OK_504', 'OK_505', 'OK_506', 'OK_507', 'OR_500', 'OR_501', 'OR_502', 'OR_503', 'OR_505', 'OR_506', 'OR_507', 'PA_500', 'PA_501', 'PA_502', 'PA_503', 'PA_504', 'PA_505', 'PA_506', 'PA_508', 'PA_509', 'PA_510', 'PA_511', 'PA_512', 'PA_600', 'PA_601', 'PA_603', 'PA_605', 'RI_500', 'SC_500', 'SC_501', 'SC_502', 'SC_503', 'SD_500', 'TN_500', 'TN_501', 'TN_502', 'TN_503', 'TN_504', 'TN_506', 'TN_507', 'TN_509', 'TN_510', 'TN_512', 'TX_500', 'TX_503', 'TX_600', 'TX_601', 'TX_603', 'TX_604', 'TX_607', 'TX_611', 'TX_624', 'TX_700', 'TX_701', 'UT_500', 'UT_503', 'UT_504', 'VA_500', 'VA_501', 'VA_502', 'VA_503', 'VA_504', 'VA_505', 'VA_507', 'VA_508', 'VA_513', 'VA_514', 'VA_521', 'VA_600', 'VA_601', 'VA_602', 'VA_603', 'VA_604', 'VT_500', 'VT_501', 'WA_500', 'WA_501', 'WA_502', 'WA_503', 'WA_504', 'WA_508', 'WI_500', 'WI_501', 'WI_502', 'WI_503', 'WV_500', 'WV_501', 'WV_503', 'WV_508']\n",
      "366\n",
      "            microhome_cost\n",
      "CoC_Number                \n",
      "AK_500            827658.0\n",
      "AK_501            648402.0\n",
      "AL_500            514818.0\n",
      "AL_501            426360.0\n",
      "AL_502            304149.0\n",
      "microhome_cost    827658.0\n",
      "Name: AK_500, dtype: float64\n",
      "Variable                   Type            Data/Info\n",
      "----------------------------------------------------\n",
      "CoC_populations            DataFrame                   Overall_Homel<...>n\\n[366 rows x 1 columns]\n",
      "FactoryCost                DataFrame                   microhome_cos<...>n\\n[366 rows x 1 columns]\n",
      "GRB                        type            <class 'gurobipy._grb.GRB'>\n",
      "M                          int             999999999999999999999\n",
      "NumCities                  int             378\n",
      "NumFactories               int             378\n",
      "Path                       type            <class 'pathlib.Path'>\n",
      "R                          float           3958.8\n",
      "THUCost                    int             5000\n",
      "THUShippingBase            int             100\n",
      "THUShippingPerMile         int             1\n",
      "THU_Factory_Limit          int             999999999999999\n",
      "TotalBudget                int             50000000\n",
      "abbreviation               str             WY\n",
      "abbreviation_state_pairs   list            n=50\n",
      "avg_lat                    float64         43.067158759328734\n",
      "avg_lon                    float64         -89.41806381427304\n",
      "centroids                  GeoSeries       0    POINT (-89.41806 43.06716)\\ndtype: geometry\n",
      "coc                        str             WV_508\n",
      "coc_dest                   str             WI_503\n",
      "coc_distance_arr           list            n=378\n",
      "coc_distance_matrix        DataFrame                   AK_500      A<...>n[378 rows x 378 columns]\n",
      "coc_lon_lat                dict            n=378\n",
      "coc_path                   WindowsPath     c:\\Users\\yanna\\repos\\15-u<...>oC_GIS_State_Shapefile_WY\n",
      "coc_source                 str             WI_503\n",
      "cocs                       list            n=366\n",
      "directory                  WindowsPath     c:\\Users\\yanna\\repos\\15-uplift\n",
      "distance                   float           0.0\n",
      "env                        Env             <gurobipy.Env, Parameter <...>ID=2678031, OutputFlag=0>\n",
      "factory_cost_scalar        int             3\n",
      "factory_estimate           DataFrame                   microhome_cos<...>n\\n[366 rows x 1 columns]\n",
      "gdf                        GeoDataFrame       ST STATE_NAME  COCNUM <...>\\n\\n[1 rows x 47 columns]\n",
      "gp                         module          <module 'gurobipy' from '<...>\\\\gurobipy\\\\__init__.py'>\n",
      "gpd                        module          <module 'geopandas' from <...>\\geopandas\\\\__init__.py'>\n",
      "haversine_dist             function        <function haversine_dist at 0x000001D313F91440>\n",
      "indexToCity                function        <function indexToCity at 0x000001D377EBEE80>\n",
      "indexToCityDict            dict            n=366\n",
      "indices                    range           range(0, 366)\n",
      "latitudes                  Series          0    43.067159\\ndtype: float64\n",
      "lon_lat_dest               tuple           n=2\n",
      "lon_lat_source             tuple           n=2\n",
      "longitudes                 Series          0   -89.418064\\ndtype: float64\n",
      "m                          Model           <gurobi.Model Continuous <...>ID=2678031, OutputFlag=0>\n",
      "math                       module          <module 'math' (built-in)>\n",
      "np                         module          <module 'numpy' from 'c:\\<...>ges\\\\numpy\\\\__init__.py'>\n",
      "numCoCs                    int             366\n",
      "os                         module          <module 'os' (frozen)>\n",
      "pd                         module          <module 'pandas' from 'c:<...>es\\\\pandas\\\\__init__.py'>\n",
      "plt                        module          <module 'matplotlib.pyplo<...>\\\\matplotlib\\\\pyplot.py'>\n",
      "state                      str             Wyoming\n",
      "state_abbreviations        list            n=50\n",
      "states                     list            n=50\n",
      "warnings                   module          <module 'warnings' from '<...>on312\\\\Lib\\\\warnings.py'>\n"
     ]
    }
   ],
   "source": [
    "# Generate distance matrix\n",
    "%run ./optimization/coc-distance.ipynb\n",
    "%whos\n",
    "\n",
    "# print(coc_distance_matrix.head())"
   ]
  },
  {
   "cell_type": "code",
   "execution_count": 9,
   "id": "a22c1b7d",
   "metadata": {},
   "outputs": [],
   "source": [
    "# Set up Gurobi environment\n",
    "env = gp.Env(empty=True)\n",
    "env.setParam('OutputFlag', 0)\n",
    "env.start()\n",
    "\n",
    "# Initialize the model\n",
    "m = gp.Model(env=env)"
   ]
  },
  {
   "cell_type": "code",
   "execution_count": 10,
   "id": "9f2e7d21",
   "metadata": {},
   "outputs": [],
   "source": [
    "# High level variables + assumptions\n",
    "# Total budget allocated for uplift units\n",
    "TotalBudget =  50000000 # 130000000 # 50000 # 10000000 # budget: 85281049.54872459\n",
    "\n",
    "# Uplift unit specification assumptions\n",
    "# Uplift Factory Spec \n",
    "FactoryCost = factory_estimate\n",
    "# FactoryCost = 10000 \n",
    "\n",
    "# Uplift THU Spec \n",
    "THUCost = 5000\n",
    "\n",
    "# Uplift Shipping Spec \n",
    "THUShippingBase = 100\n",
    "THUShippingPerMile = 1\n",
    "\n",
    "# Uplift Operational Spec \n",
    "THU_Factory_Limit = 999999999999999  # 15000 #1500\n",
    "# THU_to_Factory_Max_Distance = 50\n",
    "\n",
    "# Big M\n",
    "M = 999999999999999999999\n",
    "\n",
    "# Given no factory production limit, how much budget is needed for it to make sense to build second factory\n",
    "# vary over budget\n"
   ]
  },
  {
   "cell_type": "code",
   "execution_count": 11,
   "id": "00100d95",
   "metadata": {},
   "outputs": [],
   "source": [
    "# City distance data\n",
    "# print(coc_distance_matrix.head())\n",
    "# city_distance = {\n",
    "#                  \"SF\": {\"SF\": 0, \"Boston\": 3000, \"NYC\": 2900}, \n",
    "#                  \"Boston\": {\"SF\": 3000, \"Boston\": 0, \"NYC\": 215},\n",
    "#                  \"NYC\": {\"SF\": 2900, \"Boston\": 215, \"NYC\": 0}\n",
    "#                  }"
   ]
  },
  {
   "cell_type": "code",
   "execution_count": 12,
   "id": "8063d893",
   "metadata": {},
   "outputs": [
    {
     "name": "stdout",
     "output_type": "stream",
     "text": [
      "366\n",
      "366\n",
      "366\n"
     ]
    }
   ],
   "source": [
    "# CoC Data/homeless population\n",
    "# CoCPopulations = CoC_populations\n",
    "# CoCPopulations = {\"SF\": 8300, \"Boston\": 6000, \"NYC\": 350000}\n",
    "# CoCPopulations = {\"SF\": 9000, \"Boston\": 6000, \"NYC\": 15000}\n",
    "# CoCPopulations = {\"SF\": 5000, \"Boston\": 5000, \"NYC\": 5000}\n",
    "\n",
    "\n",
    "# Number of cities\n",
    "NumCities = numCoCs\n",
    "\n",
    "# Number of factory locations available (equivalent to cities)\n",
    "# todo: rename var\n",
    "NumFactories = numCoCs\n",
    "\n",
    "# ordered dict for version < 3.7; assumed same order in version >= 3.7\n",
    "indices = range(len(CoC_populations))\n",
    "# CoCs = CoC_populations['CoC_Number'].values\n",
    "indexToCityDict = dict(zip(indices, cocs))\n",
    "def indexToCity(index):\n",
    "    return indexToCityDict[index]\n",
    "\n",
    "# print(indexToCityDict)\n",
    "\n",
    "print(NumCities)\n",
    "print(NumFactories)\n",
    "print(len(FactoryCost))"
   ]
  },
  {
   "cell_type": "code",
   "execution_count": 13,
   "id": "2905093f",
   "metadata": {},
   "outputs": [],
   "source": [
    "# Decision variables\n",
    "# How many homes to place per city\n",
    "THU = m.addVars((t for t in range(0, NumCities)), lb=0, name=\"THUQuantityPerCity\")\n",
    "\n",
    "# Where to place factories (also # of factories)\n",
    "Factory = m.addVars((t for t in range(0, NumFactories)), vtype=GRB.BINARY, name=\"FactoryLocations\")\n",
    "\n",
    "# How many THUs shipped from a given factory\n",
    "THUShippedFromFactory = m.addMVar((NumCities, NumFactories), name=\"ClosestFactory\", lb=0)\n",
    "# City = m.addVars(((i, j) for i in range(0, NumCities) for j in range(0, NumFactories)), lb=0, ub = 1, name=\"ClosestFactory\")\n"
   ]
  },
  {
   "cell_type": "code",
   "execution_count": null,
   "id": "adca3c22",
   "metadata": {},
   "outputs": [],
   "source": [
    "# Constraints\n",
    "# Budget constraint\n",
    "# sum cost of all the THUs + \n",
    "# sum cost of all the factories + \n",
    "# sum cost of transportation of THUs from all the factories = # produced in city * closest factory * distance to factory * shipping cost per mile\n",
    "budgetConstr = m.addConstr((sum(THU[cityIndex]*THUCost for cityIndex in range(0, NumCities)) + \n",
    "                              sum(FactoryCost.iloc[factory]['microhome_cost']*Factory[factory] for factory in range(NumFactories)) +\n",
    "                              sum(THUShippedFromFactory[(cityIndex, factory)]*coc_distance_matrix.iloc[cityIndex, factory]*THUShippingPerMile \n",
    "                              for cityIndex in range(NumCities) for factory in range(NumFactories))) <= TotalBudget, name='BudgetConstr')\n",
    "\n",
    "# Unhoused population (allocate no more than # unhoused)\n",
    "popConstr = m.addConstrs(THU[cityIndex] <= CoC_populations.iloc[cityIndex] for cityIndex in range(0, NumCities))\n",
    "\n",
    "# sum of THUs shipped needs to equal THUs in location\n",
    "THUTotal = m.addConstrs(sum(THUShippedFromFactory[cityIndex][factoryIndex] for factoryIndex in range(NumFactories)) == THU[cityIndex] for cityIndex in range(NumCities))\n",
    "\n",
    "# enforce no THU production if factory not selected\n",
    "THUProdatFactory = m.addConstrs(THUShippedFromFactory[cityIndex][factoryIndex] <= M*Factory[factoryIndex] for cityIndex in range(NumCities) for factoryIndex in range(NumFactories))\n",
    "FactoryLimit = m.addConstrs(sum(THUShippedFromFactory[cityIndex][factoryIndex] for cityIndex in range(NumCities)) <= THU_Factory_Limit for factoryIndex in range(NumFactories))\n",
    "\n",
    "# Todo: max and min # THUs per factory\n",
    "\n",
    "# There must be at least one factory in total\n",
    "factoryConstr = m.addConstr(sum(Factory[factory] for factory in range(NumFactories)) >= 1)\n"
   ]
  },
  {
   "cell_type": "code",
   "execution_count": 39,
   "id": "a9481a34",
   "metadata": {},
   "outputs": [],
   "source": [
    "# Objective function\n",
    "# Maximize number of housing units provided for unhoused populations (ie; minimize unhoused individiuals)\n",
    "m.setObjective(sum(THU[city] for city in range(0, NumCities)), gp.GRB.MAXIMIZE)\n"
   ]
  },
  {
   "cell_type": "code",
   "execution_count": 40,
   "id": "32c48ba4",
   "metadata": {},
   "outputs": [
    {
     "name": "stdout",
     "output_type": "stream",
     "text": [
      "\n",
      "Objective value:  9810.77\n"
     ]
    }
   ],
   "source": [
    "# Update and write the model\n",
    "m.update() # Update model parameters\n",
    "# m.write(\"uplift.lp\") # Write model to file\n",
    "\n",
    "# Solve\n",
    "m.optimize()\n",
    "\n",
    "# Check model is not infeasible\n",
    "if m.status == GRB.INFEASIBLE:\n",
    "    print(\"model is infeasible\")\n",
    "print(\"\\nObjective value: \", \"%.2f\" % m.getAttr(\"ObjVal\"))\n"
   ]
  },
  {
   "cell_type": "code",
   "execution_count": 41,
   "id": "a1a2d2fe",
   "metadata": {},
   "outputs": [
    {
     "name": "stdout",
     "output_type": "stream",
     "text": [
      "THUs:\n",
      "AK_500: 0\n",
      "AK_501: 0\n",
      "AL_500: 0\n",
      "AL_501: 0\n",
      "AL_502: 0\n",
      "AL_503: 0\n",
      "AL_504: 0\n",
      "AL_505: 0\n",
      "AL_506: 0\n",
      "AL_507: 0\n",
      "AZ_500: 1713.77\n",
      "AZ_501: 2179\n",
      "AZ_502: 5918\n",
      "Factories:\n",
      "AK_500: -0\n",
      "AK_501: -0\n",
      "AL_500: -0\n",
      "AL_501: -0\n",
      "AL_502: -0\n",
      "AL_503: -0\n",
      "AL_504: -0\n",
      "AL_505: -0\n",
      "AL_506: -0\n",
      "AL_507: -0\n",
      "AZ_500: 0\n",
      "AZ_501: -0\n",
      "AZ_502: 1\n",
      "Shipping from factories:\n",
      "source city: AZ_500, factory city: AZ_502, value: 1713.77\n",
      "source city: AZ_501, factory city: AZ_502, value: 2179\n",
      "source city: AZ_502, factory city: AZ_502, value: 5918\n",
      "Expected max budget: 50000000 actual budget: 50000000.0\n",
      "THU cost:  49053846.43879988\n",
      "Factory cost: 565386.0\n",
      "THU ship cost: 380767.561200122\n"
     ]
    }
   ],
   "source": [
    "# Print solution\n",
    "print(\"THUs:\")\n",
    "for i in THU:\n",
    "    # if THU[i].x > 0:\n",
    "        print('%s: %g' % (indexToCity(i), THU[i].x))\n",
    "\n",
    "print(\"Factories:\")\n",
    "for i in Factory:\n",
    "    # if THU[i].x > 0:\n",
    "        print('%s: %g' % (indexToCity(i), Factory[i].x))\n",
    "\n",
    "print(\"Shipping from factories:\")\n",
    "for i in range(NumCities):\n",
    "    for j in range(NumFactories):\n",
    "        if THUShippedFromFactory[i][j].x> 0:\n",
    "            print('source city: %s, factory city: %s, value: %g' % (indexToCity(i), indexToCity(j), THUShippedFromFactory[i][j].x))\n",
    "\n",
    "THUExpense = sum(THU[cityIndex].x*THUCost for cityIndex in range(0, NumCities))\n",
    "FactoryExpense = sum(FactoryCost.iloc[factory]['microhome_cost']*Factory[factory].x for factory in range(NumFactories))\n",
    "shipCost = sum(THUShippedFromFactory[cityIndex][factory].x*coc_distance_matrix.iloc[cityIndex, factory]*THUShippingPerMile for cityIndex in range(NumCities) for factory in range(NumFactories))\n",
    "print(\"Expected max budget: \" + str(TotalBudget) + \" actual budget: \" + str(THUExpense + FactoryExpense + shipCost))\n",
    "print(\"THU cost: \", THUExpense)\n",
    "print(\"Factory cost: \" + str(FactoryExpense))\n",
    "print(\"THU ship cost: \" + str(shipCost))"
   ]
  },
  {
   "cell_type": "code",
   "execution_count": 75,
   "id": "5ab55dc9",
   "metadata": {},
   "outputs": [
    {
     "name": "stdout",
     "output_type": "stream",
     "text": [
      "            Overall_Homeless\n",
      "CoC_Number                  \n",
      "AK_500                1023.0\n",
      "AK_501                 761.0\n",
      "AL_500                1329.0\n",
      "AL_501                 598.0\n",
      "AL_502                 209.0\n",
      "AL_503                 536.0\n",
      "AL_504                 490.0\n",
      "AL_505                 438.0\n",
      "AL_506                 245.0\n",
      "AL_507                 716.0\n",
      "AZ_500                2398.0\n",
      "AZ_501                2179.0\n",
      "AZ_502                5918.0\n"
     ]
    }
   ],
   "source": [
    "print(CoC_populations)"
   ]
  },
  {
   "cell_type": "markdown",
   "id": "325e873b",
   "metadata": {},
   "source": [
    "#### Analysis of optimization results\n",
    "beep boop"
   ]
  },
  {
   "cell_type": "markdown",
   "id": "17ae27d5",
   "metadata": {},
   "source": []
  }
 ],
 "metadata": {
  "kernelspec": {
   "display_name": "Python 3",
   "language": "python",
   "name": "python3"
  },
  "language_info": {
   "codemirror_mode": {
    "name": "ipython",
    "version": 3
   },
   "file_extension": ".py",
   "mimetype": "text/x-python",
   "name": "python",
   "nbconvert_exporter": "python",
   "pygments_lexer": "ipython3",
   "version": "3.12.6"
  }
 },
 "nbformat": 4,
 "nbformat_minor": 5
}

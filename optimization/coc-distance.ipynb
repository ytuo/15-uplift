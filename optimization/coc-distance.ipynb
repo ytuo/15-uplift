{
 "cells": [
  {
   "cell_type": "markdown",
   "id": "e413f3df",
   "metadata": {},
   "source": [
    "# Distance between CoCs\n",
    "A factory can be placed in a CoC and serves two functions:\n",
    "\n",
    "1. Provide shelter to people experiencing homelessness (PEH) in that CoC.\n",
    "2. Serve as a source for other temporary housing units (THUs) that can be deployed to other CoCs.\n",
    "\n",
    "To determine the optimal deployment of factories, we require the distance between each pair of CoCs; from this distance we can calculate a transportation cost that will be used in the optimization framework to strategically deploy THUs and factories. In this work, we consider two ways to calculate the distance between CoCs:\n",
    "\n",
    "1. Haversine distance\n",
    "2. Road network distance"
   ]
  },
  {
   "cell_type": "markdown",
   "id": "41460d3a",
   "metadata": {},
   "source": [
    "## Haversine distance\n",
    "The hversine distance determines the orthodromic distance between two points on a sphere. Given the latitude $\\phi$ and longitude $\\lambda$ of two points, we can calculate the distance according to:\n",
    "$$\n",
    "d = 2r \\sin^{-1}\\left( \\sqrt \\frac{1 - \\cos(\\Delta \\phi) + \\cos(\\phi_1) \\cos(\\phi_2)(1-\\cos(\\Delta \\lambda))}{2} \\right)\n",
    "$$\n",
    "where $r$ is the radius of the Earth (approximately 6,370 km)."
   ]
  },
  {
   "cell_type": "markdown",
   "id": "8f2d533b",
   "metadata": {},
   "source": []
  }
 ],
 "metadata": {
  "language_info": {
   "name": "python"
  }
 },
 "nbformat": 4,
 "nbformat_minor": 5
}

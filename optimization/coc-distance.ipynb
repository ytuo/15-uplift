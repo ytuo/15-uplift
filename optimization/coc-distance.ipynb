{
 "cells": [
  {
   "cell_type": "markdown",
   "id": "e413f3df",
   "metadata": {},
   "source": [
    "# Distance between CoCs\n",
    "A factory can be placed in a CoC and serves two functions:\n",
    "\n",
    "1. Provide shelter to people experiencing homelessness (PEH) in that CoC.\n",
    "2. Serve as a source for other temporary housing units (THUs) that can be deployed to other CoCs.\n",
    "\n",
    "To determine the optimal deployment of factories, we require the distance between each pair of CoCs; from this distance we can calculate a transportation cost that will be used in the optimization framework to strategically deploy THUs and factories. In this work, we consider two ways to calculate the distance between CoCs:\n",
    "\n",
    "1. Haversine distance\n",
    "2. Road network distance"
   ]
  },
  {
   "cell_type": "markdown",
   "id": "41460d3a",
   "metadata": {},
   "source": [
    "## Haversine distance\n",
    "The hversine distance determines the orthodromic distance between two points on a sphere. Given the latitude $\\phi$ and longitude $\\lambda$ of two points, we can calculate the distance according to:\n",
    "$$\n",
    "d = 2r \\sin^{-1}\\left( \\sqrt \\frac{1 - \\cos(\\Delta \\phi) + \\cos(\\phi_1) \\cos(\\phi_2)(1-\\cos(\\Delta \\lambda))}{2} \\right)\n",
    "$$\n",
    "where $r$ is the radius of the Earth (approximately 6,370 km)."
   ]
  },
  {
   "cell_type": "markdown",
   "id": "8f2d533b",
   "metadata": {},
   "source": []
  },
  {
   "cell_type": "code",
   "execution_count": 3,
   "id": "130bce96",
   "metadata": {},
   "outputs": [],
   "source": [
    "import math\n",
    "# Earth radius R in miles\n",
    "R = 3959\n",
    "def calc_haversine_dist(lat1, long1, lat2, long2):\n",
    "    delta_latitude = lat2 - lat1\n",
    "    delta_longitude = long2 - long1\n",
    "    return 2*R*math.asin(math.sqrt((1 - math.cos(delta_latitude) + math.cos(lat1)*math.cos(lat2)*(1 - math.cos(delta_longitude)))/2))\n"
   ]
  },
  {
   "cell_type": "code",
   "execution_count": null,
   "id": "9a1dd6ef",
   "metadata": {},
   "outputs": [],
   "source": [
    "import geopandas as gpd\n",
    "\n",
    "gdf = gpd.read_file('AK_500.shp')\n",
    "gdf.info()\n",
    "gdf.head()\n",
    "\n",
    "# Calculate centroids\n",
    "centroids = gdf.geometry.centroid\n",
    "\n",
    "# Extract x (longitude) and y (latitude)\n",
    "gdf['centroid_lon'] = centroids.x\n",
    "gdf['centroid_lat'] = centroids.y\n",
    "\n",
    "# Preview the result\n",
    "print(gdf[['centroid_lon', 'centroid_lat']].head())\n"
   ]
  }
 ],
 "metadata": {
  "kernelspec": {
   "display_name": "Python 3",
   "language": "python",
   "name": "python3"
  },
  "language_info": {
   "codemirror_mode": {
    "name": "ipython",
    "version": 3
   },
   "file_extension": ".py",
   "mimetype": "text/x-python",
   "name": "python",
   "nbconvert_exporter": "python",
   "pygments_lexer": "ipython3",
   "version": "3.12.6"
  }
 },
 "nbformat": 4,
 "nbformat_minor": 5
}

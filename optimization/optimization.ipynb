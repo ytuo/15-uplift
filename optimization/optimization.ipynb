{
 "cells": [
  {
   "cell_type": "markdown",
   "id": "a9ae93cd",
   "metadata": {},
   "source": [
    "### Optimizing Temporary Housing Deployment to Reduce U.S. Homelessness \n",
    "Nauman Sohani, Yannan Tuo, Charlie Nitschelm"
   ]
  },
  {
   "cell_type": "code",
   "execution_count": 1,
   "id": "885f71d5",
   "metadata": {},
   "outputs": [],
   "source": [
    "# Load packages\n",
    "import gurobipy as gp\n",
    "from gurobipy import GRB\n",
    "import pandas as pd\n",
    "import numpy as np\n",
    "import matplotlib.pyplot as plt\n"
   ]
  },
  {
   "cell_type": "code",
   "execution_count": 2,
   "id": "a2eed4e2",
   "metadata": {},
   "outputs": [],
   "source": [
    "# Generate distance matrix\n",
    "# %run ./optimization/coc-distance.ipynb\n",
    "# %whos\n",
    "\n",
    "# print(coc_distance_matrix.head())"
   ]
  },
  {
   "cell_type": "code",
   "execution_count": 3,
   "id": "a22c1b7d",
   "metadata": {},
   "outputs": [],
   "source": [
    "# Set up Gurobi environment\n",
    "env = gp.Env(empty=True)\n",
    "env.setParam('OutputFlag', 0)\n",
    "env.start()\n",
    "\n",
    "# Initialize the model\n",
    "m = gp.Model(env=env)"
   ]
  },
  {
   "cell_type": "code",
   "execution_count": 4,
   "id": "9f2e7d21",
   "metadata": {},
   "outputs": [],
   "source": [
    "# High level variables + assumptions\n",
    "# Total budget allocated for uplift units\n",
    "TotalBudget =  50000000 # 130000000 # 50000 # 10000000 # budget: 85281049.54872459\n",
    "\n",
    "# Uplift unit specification assumptions\n",
    "# Uplift Factory Spec \n",
    "from pathlib import Path\n",
    "directory = Path.cwd()\n",
    "FactoryCost = pd.read_csv(directory / 'factory_estimate.csv')\n",
    "FactoryCost.set_index('CoC_Number', inplace=True)\n",
    "\n",
    "# FactoryCost = 10000 \n",
    "\n",
    "# Uplift THU Spec \n",
    "THUCost = 5_000\n",
    "\n",
    "# Uplift Shipping Spec \n",
    "THUShippingBase = 100\n",
    "THUShippingPerMile = 1\n",
    "\n",
    "# Uplift Operational Spec \n",
    "# THU_Factory_Limit = 999999999999999  # 15000 #1500\n",
    "THU_Factory_Limit = 5_000  # 15000 #1500\n",
    "# THU_to_Factory_Max_Distance = 50\n",
    "\n",
    "# Big M\n",
    "M = 999999999999999999999\n",
    "\n",
    "# Given no factory production limit, how much budget is needed for it to make sense to build second factory\n",
    "# vary over budget\n"
   ]
  },
  {
   "cell_type": "code",
   "execution_count": 5,
   "id": "00100d95",
   "metadata": {},
   "outputs": [
    {
     "name": "stdout",
     "output_type": "stream",
     "text": [
      "       AZ_500      AZ_501      AZ_502      CA_500      CA_501      CA_502  \\\n",
      "0    0.000000  100.377884   95.797626  641.657111  667.456178  535.237009   \n",
      "1  100.377884    0.000000  172.913722  638.231594  653.762249  531.295315   \n",
      "2   95.797626  172.913722    0.000000  728.159821  757.382496  622.740097   \n",
      "3  641.657111  638.231594  728.159821    0.000000   69.615583  107.118344   \n",
      "4  667.456178  653.762249  757.382496   69.615583    0.000000  140.210217   \n",
      "\n",
      "       CA_503      CA_504      CA_505      CA_506  ...       TX_611  \\\n",
      "0  559.778585  655.119883  695.660884  727.027926  ...   913.840076   \n",
      "1  564.563350  655.039749  691.616312  702.218126  ...   861.619424   \n",
      "2  643.580939  740.194331  782.071906  819.744306  ...   881.790039   \n",
      "3   92.088930   26.308731   54.003774  163.041002  ...  1461.616336   \n",
      "4  149.227808   89.195966   72.962575   94.250202  ...  1456.684841   \n",
      "\n",
      "        TX_624       TX_700       TX_701      UT_500      UT_503      UT_504  \\\n",
      "0   763.895815   866.257526   785.108771  506.357179  408.890270  494.178383   \n",
      "1   727.750519   842.359195   730.151086  420.311823  321.091901  404.534191   \n",
      "2   718.044528   808.776126   757.472409  592.346553  493.471611  577.351483   \n",
      "3  1354.235384  1476.991094  1328.999339  547.635130  549.000658  577.371878   \n",
      "4  1358.113221  1484.904144  1324.677313  515.366112  528.722362  547.313467   \n",
      "\n",
      "        VT_500       VT_501     CoC  \n",
      "0  2247.605125  2228.505025  AZ_500  \n",
      "1  2159.103412  2139.320853  AZ_501  \n",
      "2  2259.421304  2241.708828  AZ_502  \n",
      "3  2543.013053  2516.783019  CA_500  \n",
      "4  2500.779700  2473.973432  CA_501  \n",
      "\n",
      "[5 rows x 152 columns]\n"
     ]
    }
   ],
   "source": [
    "# City distance data\n",
    "coc_distance_matrix = pd.read_csv(directory /'coc_distance_matrix.csv')\n",
    "# coc_distance_matrix.set_index('CoC_Number', inplace=True)\n",
    "# print(coc_distance_matrix.head())\n",
    "# city_distance = {\n",
    "#                  \"SF\": {\"SF\": 0, \"Boston\": 3000, \"NYC\": 2900}, \n",
    "#                  \"Boston\": {\"SF\": 3000, \"Boston\": 0, \"NYC\": 215},\n",
    "#                  \"NYC\": {\"SF\": 2900, \"Boston\": 215, \"NYC\": 0}\n",
    "#                  }\n",
    "\n",
    "print(coc_distance_matrix.head())"
   ]
  },
  {
   "cell_type": "code",
   "execution_count": 6,
   "id": "8063d893",
   "metadata": {},
   "outputs": [
    {
     "name": "stdout",
     "output_type": "stream",
     "text": [
      "['AZ_500', 'AZ_501', 'AZ_502', 'CA_500', 'CA_501', 'CA_502', 'CA_503', 'CA_504', 'CA_505', 'CA_506', 'CA_507', 'CA_508', 'CA_509', 'CA_510', 'CA_511', 'CA_512', 'CA_513', 'CA_514', 'CA_515', 'CA_516', 'CA_517', 'CA_518', 'CA_519', 'CA_520', 'CA_521', 'CA_522', 'CA_523', 'CA_524', 'CA_525', 'CA_526', 'CA_527', 'CA_529', 'CA_530', 'CA_531', 'CA_600', 'CA_601', 'CA_602', 'CA_603', 'CA_604', 'CA_606', 'CA_607', 'CA_608', 'CA_609', 'CA_611', 'CA_612', 'CA_613', 'CA_614', 'CT_503', 'CT_505', 'MA_500', 'MA_502', 'MA_503', 'MA_504', 'MA_505', 'MA_506', 'MA_507', 'MA_509', 'MA_511', 'MA_515', 'MA_516', 'ME_500', 'NH_500', 'NH_501', 'NH_502', 'NJ_500', 'NJ_501', 'NJ_502', 'NJ_503', 'NJ_504', 'NJ_506', 'NJ_507', 'NJ_508', 'NJ_509', 'NJ_510', 'NJ_511', 'NJ_512', 'NJ_513', 'NJ_514', 'NJ_515', 'NJ_516', 'NM_500', 'NM_501', 'NV_500', 'NV_501', 'NV_502', 'NY_500', 'NY_501', 'NY_503', 'NY_505', 'NY_507', 'NY_508', 'NY_510', 'NY_511', 'NY_512', 'NY_513', 'NY_514', 'NY_518', 'NY_519', 'NY_520', 'NY_522', 'NY_523', 'NY_525', 'NY_600', 'NY_601', 'NY_602', 'NY_603', 'NY_604', 'NY_606', 'NY_608', 'OK_500', 'OK_501', 'OK_502', 'OK_503', 'OK_504', 'OK_505', 'OK_506', 'OK_507', 'PA_500', 'PA_501', 'PA_502', 'PA_503', 'PA_504', 'PA_505', 'PA_506', 'PA_508', 'PA_509', 'PA_510', 'PA_511', 'PA_512', 'PA_600', 'PA_601', 'PA_603', 'PA_605', 'RI_500', 'TX_500', 'TX_503', 'TX_600', 'TX_601', 'TX_603', 'TX_604', 'TX_607', 'TX_611', 'TX_624', 'TX_700', 'TX_701', 'UT_500', 'UT_503', 'UT_504', 'VT_500', 'VT_501']\n",
      "150\n",
      "150\n",
      "150\n"
     ]
    }
   ],
   "source": [
    "# CoC Data/homeless population\n",
    "CoC_populations = pd.read_csv(directory /'Coc_populations.csv')\n",
    "cocs = CoC_populations['CoC_Number'].tolist()\n",
    "CoC_populations.set_index('CoC_Number', inplace=True)\n",
    "numCoCs = len(CoC_populations)\n",
    "print(cocs)\n",
    "# CoCPopulations = {\"SF\": 8300, \"Boston\": 6000, \"NYC\": 350000}\n",
    "# CoCPopulations = {\"SF\": 9000, \"Boston\": 6000, \"NYC\": 15000}\n",
    "# CoCPopulations = {\"SF\": 5000, \"Boston\": 5000, \"NYC\": 5000}\n",
    "\n",
    "# Number of cities\n",
    "NumCities = numCoCs\n",
    "\n",
    "# Number of factory locations available (equivalent to cities)\n",
    "# todo: rename var\n",
    "NumFactories = numCoCs\n",
    "\n",
    "# ordered dict for version < 3.7; assumed same order in version >= 3.7\n",
    "indices = range(len(CoC_populations))\n",
    "# CoCs = CoC_populations['CoC_Number'].values\n",
    "indexToCityDict = dict(zip(indices, cocs))\n",
    "def indexToCity(index):\n",
    "    return indexToCityDict[index]\n",
    "\n",
    "# print(indexToCityDict)\n",
    "\n",
    "print(NumCities)\n",
    "print(NumFactories)\n",
    "print(len(FactoryCost))"
   ]
  },
  {
   "cell_type": "code",
   "execution_count": 7,
   "id": "2905093f",
   "metadata": {},
   "outputs": [],
   "source": [
    "# Decision variables\n",
    "# How many homes to place per city\n",
    "THU = m.addVars((t for t in range(0, NumCities)), lb=0, name=\"THUQuantityPerCity\")\n",
    "\n",
    "# Where to place factories (also # of factories)\n",
    "Factory = m.addVars((t for t in range(0, NumFactories)), vtype=GRB.BINARY, name=\"FactoryLocations\")\n",
    "\n",
    "# How many THUs shipped from a given factory\n",
    "THUShippedFromFactory = m.addMVar((NumCities, NumFactories), name=\"ClosestFactory\", lb=0)\n",
    "# City = m.addVars(((i, j) for i in range(0, NumCities) for j in range(0, NumFactories)), lb=0, ub = 1, name=\"ClosestFactory\")\n"
   ]
  },
  {
   "cell_type": "code",
   "execution_count": 8,
   "id": "adca3c22",
   "metadata": {},
   "outputs": [
    {
     "name": "stderr",
     "output_type": "stream",
     "text": [
      "/var/folders/hm/hb18k8k54xd7nbc0n2gg1yh80000gn/T/ipykernel_61152/3849584006.py:12: FutureWarning: Calling float on a single element Series is deprecated and will raise a TypeError in the future. Use float(ser.iloc[0]) instead\n",
      "  popConstr = m.addConstrs(THU[cityIndex] <= CoC_populations.iloc[cityIndex] for cityIndex in range(0, NumCities))\n"
     ]
    }
   ],
   "source": [
    "# Constraints\n",
    "# Budget constraint\n",
    "# sum cost of all the THUs + \n",
    "# sum cost of all the factories + \n",
    "# sum cost of transportation of THUs from all the factories = # produced in city * closest factory * distance to factory * shipping cost per mile\n",
    "budgetConstr = m.addConstr((sum(THU[cityIndex]*THUCost for cityIndex in range(0, NumCities)) + \n",
    "                              sum(FactoryCost.iloc[factory]['microhome_cost']*Factory[factory] for factory in range(NumFactories)) +\n",
    "                              sum(THUShippedFromFactory[(cityIndex, factory)]*coc_distance_matrix.iloc[cityIndex, factory]*THUShippingPerMile \n",
    "                              for cityIndex in range(NumCities) for factory in range(NumFactories))) <= TotalBudget, name='BudgetConstr')\n",
    "\n",
    "# Unhoused population (allocate no more than # unhoused)\n",
    "popConstr = m.addConstrs(THU[cityIndex] <= CoC_populations.iloc[cityIndex] for cityIndex in range(0, NumCities))\n",
    "\n",
    "# sum of THUs shipped needs to equal THUs in location\n",
    "THUTotal = m.addConstrs(sum(THUShippedFromFactory[cityIndex][factoryIndex] for factoryIndex in range(NumFactories)) == THU[cityIndex] for cityIndex in range(NumCities))\n",
    "\n",
    "# enforce no THU production if factory not selected\n",
    "THUProdatFactory = m.addConstrs(THUShippedFromFactory[cityIndex][factoryIndex] <= M*Factory[factoryIndex] for cityIndex in range(NumCities) for factoryIndex in range(NumFactories))\n",
    "FactoryLimit = m.addConstrs(sum(THUShippedFromFactory[cityIndex][factoryIndex] for cityIndex in range(NumCities)) <= THU_Factory_Limit for factoryIndex in range(NumFactories))\n",
    "\n",
    "# Todo: max and min # THUs per factory\n",
    "\n",
    "# There must be at least one factory in total\n",
    "factoryConstr = m.addConstr(sum(Factory[factory] for factory in range(NumFactories)) >= 1)\n"
   ]
  },
  {
   "cell_type": "code",
   "execution_count": 9,
   "id": "a9481a34",
   "metadata": {},
   "outputs": [],
   "source": [
    "# Objective function\n",
    "# Maximize number of housing units provided for unhoused populations (ie; minimize unhoused individiuals)\n",
    "m.setObjective(sum(THU[city] for city in range(0, NumCities)), gp.GRB.MAXIMIZE)\n"
   ]
  },
  {
   "cell_type": "code",
   "execution_count": 10,
   "id": "32c48ba4",
   "metadata": {},
   "outputs": [
    {
     "name": "stdout",
     "output_type": "stream",
     "text": [
      "\n",
      "Objective value:  8023.98\n"
     ]
    }
   ],
   "source": [
    "# Update and write the model\n",
    "m.update() # Update model parameters\n",
    "# m.write(\"uplift.lp\") # Write model to file\n",
    "\n",
    "# Solve\n",
    "m.optimize()\n",
    "\n",
    "# Check model is not infeasible\n",
    "if m.status == GRB.INFEASIBLE:\n",
    "    print(\"model is infeasible\")\n",
    "print(\"\\nObjective value: \", \"%.2f\" % m.getAttr(\"ObjVal\"))\n"
   ]
  },
  {
   "cell_type": "code",
   "execution_count": 11,
   "id": "a1a2d2fe",
   "metadata": {},
   "outputs": [
    {
     "name": "stdout",
     "output_type": "stream",
     "text": [
      "THUs:\n",
      "NY_501: 594\n",
      "NY_503: 889\n",
      "NY_507: 430\n",
      "NY_508: 1560\n",
      "NY_510: 273\n",
      "NY_600: 3440\n",
      "PA_509: 837.977\n",
      "Factories:\n",
      "NY_501: 1\n",
      "NY_508: 1\n",
      "Shipping from factories:\n",
      "source city: NY_501, factory city: NY_501, value: 594\n",
      "source city: NY_503, factory city: NY_501, value: 889\n",
      "source city: NY_507, factory city: NY_501, value: 430\n",
      "source city: NY_508, factory city: NY_508, value: 1560\n",
      "source city: NY_510, factory city: NY_501, value: 273\n",
      "source city: NY_600, factory city: NY_508, value: 3440\n",
      "source city: PA_509, factory city: NY_501, value: 837.977\n",
      "Expected max budget: 50000000 actual budget: 50000000.00000001\n",
      "THU cost:  40119882.51043541\n",
      "Factory cost: 9551403.064206325\n",
      "THU ship cost: 328714.4253582749\n"
     ]
    }
   ],
   "source": [
    "# Print solution\n",
    "print(\"THUs:\")\n",
    "for i in THU:\n",
    "    if THU[i].x > 0:\n",
    "        print('%s: %g' % (indexToCity(i), THU[i].x))\n",
    "\n",
    "print(\"Factories:\")\n",
    "for i in Factory:\n",
    "    if Factory[i].x > 0:\n",
    "        print('%s: %g' % (indexToCity(i), Factory[i].x))\n",
    "\n",
    "print(\"Shipping from factories:\")\n",
    "for i in range(NumCities):\n",
    "    for j in range(NumFactories):\n",
    "        if THUShippedFromFactory[i][j].x> 0:\n",
    "            print('source city: %s, factory city: %s, value: %g' % (indexToCity(i), indexToCity(j), THUShippedFromFactory[i][j].x))\n",
    "\n",
    "THUExpense = sum(THU[cityIndex].x*THUCost for cityIndex in range(0, NumCities))\n",
    "FactoryExpense = sum(FactoryCost.iloc[factory]['microhome_cost']*Factory[factory].x for factory in range(NumFactories))\n",
    "shipCost = sum(THUShippedFromFactory[cityIndex][factory].x*coc_distance_matrix.iloc[cityIndex, factory]*THUShippingPerMile for cityIndex in range(NumCities) for factory in range(NumFactories))\n",
    "print(\"Expected max budget: \" + str(TotalBudget) + \" actual budget: \" + str(THUExpense + FactoryExpense + shipCost))\n",
    "print(\"THU cost: \", THUExpense)\n",
    "print(\"Factory cost: \" + str(FactoryExpense))\n",
    "print(\"THU ship cost: \" + str(shipCost))"
   ]
  },
  {
   "cell_type": "code",
   "execution_count": 12,
   "id": "5ab55dc9",
   "metadata": {},
   "outputs": [
    {
     "name": "stdout",
     "output_type": "stream",
     "text": [
      "            Overall Homeless\n",
      "CoC_Number                  \n",
      "AZ_500                2386.0\n",
      "AZ_501                2209.0\n",
      "AZ_502                9642.0\n",
      "CA_500                9903.0\n",
      "CA_501                7582.0\n",
      "...                      ...\n",
      "UT_500                2297.0\n",
      "UT_503                1165.0\n",
      "UT_504                 225.0\n",
      "VT_500                2537.0\n",
      "VT_501                 758.0\n",
      "\n",
      "[150 rows x 1 columns]\n"
     ]
    }
   ],
   "source": [
    "print(CoC_populations)"
   ]
  },
  {
   "cell_type": "markdown",
   "id": "325e873b",
   "metadata": {},
   "source": [
    "#### Analysis of optimization results\n",
    "beep boop"
   ]
  },
  {
   "cell_type": "markdown",
   "id": "17ae27d5",
   "metadata": {},
   "source": []
  }
 ],
 "metadata": {
  "kernelspec": {
   "display_name": "env",
   "language": "python",
   "name": "python3"
  },
  "language_info": {
   "codemirror_mode": {
    "name": "ipython",
    "version": 3
   },
   "file_extension": ".py",
   "mimetype": "text/x-python",
   "name": "python",
   "nbconvert_exporter": "python",
   "pygments_lexer": "ipython3",
   "version": "3.13.0"
  }
 },
 "nbformat": 4,
 "nbformat_minor": 5
}

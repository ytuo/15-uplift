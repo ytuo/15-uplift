{
 "cells": [
  {
   "cell_type": "markdown",
   "id": "ed9fd5bb",
   "metadata": {},
   "source": [
    "# CoC to Census Tract Mapping\n",
    "In this section, we will associate each Continuum of Care (CoC) with relevant census data, such as census level demographics, income, and cost of living data. To do so, we will use shape files of each CoC and US Census Bureau tracts. Note that tracts may change on an annual basis; therefore, these data must be generated for each year."
   ]
  },
  {
   "cell_type": "code",
   "execution_count": null,
   "id": "07c0f774",
   "metadata": {},
   "outputs": [],
   "source": [
    "import pandas as pd\n",
    "import geopandas as gpd\n",
    "import matplotlib.pyplot as plt\n",
    "import os\n",
    "from pathlib import Path\n",
    "import numpy as np\n",
    "from shapely.geometry import Point\n",
    "from urllib.request import urlretrieve\n",
    "from urllib.parse import urlparse\n",
    "import utils"
   ]
  },
  {
   "cell_type": "code",
   "execution_count": 24,
   "id": "78a8976f",
   "metadata": {},
   "outputs": [],
   "source": [
    "# Run this cell to clear variables\n",
    "%reset"
   ]
  },
  {
   "cell_type": "markdown",
   "id": "e039c700",
   "metadata": {},
   "source": [
    "## Algorithm\n",
    "CoCs can contain many US Census Bureau tracts. For each tract constituting a CoC, we note the fraction of the total tract encompassed in the CoC. Tracts of which less than 1% of the total tract area is within the CoC are omitted.\n",
    "\n",
    "Algorithmically, this is done by performing intersections between shape files and then calculating the total area of overlap after converting to an area-preserving coordinate reference system. The data are stored in dictionaries for each state."
   ]
  },
  {
   "cell_type": "code",
   "execution_count": 33,
   "id": "8c736826",
   "metadata": {},
   "outputs": [],
   "source": [
    "def create_cocs_tract_crosswalk(state = 'MA', tracts_dir = 'tl_2024_25_tract'):\n",
    "    \n",
    "    directory = Path.cwd()\n",
    "    coc_path = directory / 'data' / 'coc-shapefiles' / state\n",
    "    tracts_path = directory / 'data' / tracts_dir\n",
    "    cocs = [coc for coc in os.listdir(coc_path) if coc.startswith(state + '_')]\n",
    "\n",
    "    # We must represent each CoC as a combination of Census tracts\n",
    "    cocs_tract_crosswalk = {}\n",
    "    tracts = gpd.read_file(tracts_path / str(tracts_dir + '.shp'))\n",
    "\n",
    "    for coc in cocs:\n",
    "        coc_tract_crosswalk = {}\n",
    "        coc_file = coc_path / coc / str(coc + '.shp')\n",
    "        if coc_file.is_file():\n",
    "            coc_gpd = gpd.read_file(coc_file)\n",
    "            overlapping_tracts = gpd.sjoin(tracts, coc_gpd, how=\"inner\", predicate=\"intersects\")\n",
    "            # FOR DEBUGGING: Plot the overlapping tracts\n",
    "            # fig, axes = plt.subplots(ncols = 2)\n",
    "            # coc_gpd.plot(\n",
    "            #     ax=axes[0]\n",
    "            # )\n",
    "            # overlapping_tracts.plot(\n",
    "            #     ax=axes[1]\n",
    "            # )\n",
    "            \n",
    "            # For those tracts that overlap, we estimate how much of each tract is contained in the CoC\n",
    "            # First, project the CoC and tracts into an area-preserving coordinate system\n",
    "            coc_projected = coc_gpd.to_crs(epsg=6933)\n",
    "            tracts_projected = overlapping_tracts.to_crs(epsg=6933)\n",
    "            for tract in tracts_projected.itertuples():\n",
    "                intersection_area = tract.geometry.intersection(coc_projected.geometry).area\n",
    "                tract_area = tract.geometry.area\n",
    "                overlap = (intersection_area.iat[0]/tract_area)\n",
    "            \n",
    "                # Only keep tracts for which at least 1% of the tract is in CoC\n",
    "                if overlap > 0.01: coc_tract_crosswalk[tract.GEOID] = round(overlap, 4)\n",
    "        \n",
    "        cocs_tract_crosswalk[coc] = coc_tract_crosswalk\n",
    "    \n",
    "    return cocs_tract_crosswalk\n",
    "\n",
    "ma_cocs_tract_crosswalk = create_cocs_tract_crosswalk(state='MA', tracts_dir='tl_2024_25_tract')"
   ]
  },
  {
   "cell_type": "code",
   "execution_count": null,
   "id": "c1cd4c58",
   "metadata": {},
   "outputs": [],
   "source": [
    "years = range(2007, 2024)\n",
    "states = [\"AL\", \"AK\", \"AZ\", \"AR\", \"CA\", \"CO\", \"CT\", \"DE\", \"FL\", \"GA\", \n",
    "          \"HI\", \"ID\", \"IL\", \"IN\", \"IA\", \"KS\", \"KY\", \"LA\", \"ME\", \"MD\", \n",
    "          \"MA\", \"MI\", \"MN\", \"MS\", \"MO\", \"MT\", \"NE\", \"NV\", \"NH\", \"NJ\", \n",
    "          \"NM\", \"NY\", \"NC\", \"ND\", \"OH\", \"OK\", \"OR\", \"PA\", \"RI\", \"SC\", \n",
    "          \"SD\", \"TN\", \"TX\", \"UT\", \"VT\", \"VA\", \"WA\", \"WV\", \"WI\", \"WY\"]\n",
    "\n",
    "# for year in range(2007, 2025):\n",
    "#     for state in states:\n",
    "#         download_coc_state_file(state, year)\n",
    "# for year in range(2007, 2025):\n",
    "#     unzip_all(f'data/coc-shapefiles/{year}')"
   ]
  },
  {
   "cell_type": "code",
   "execution_count": null,
   "id": "8dae71ea",
   "metadata": {},
   "outputs": [],
   "source": [
    "https://www2.census.gov/geo/tiger/TIGER2024/TRACT/tl_2024_01_tract.zip"
   ]
  }
 ],
 "metadata": {
  "kernelspec": {
   "display_name": "3.13.0",
   "language": "python",
   "name": "python3"
  },
  "language_info": {
   "codemirror_mode": {
    "name": "ipython",
    "version": 3
   },
   "file_extension": ".py",
   "mimetype": "text/x-python",
   "name": "python",
   "nbconvert_exporter": "python",
   "pygments_lexer": "ipython3",
   "version": "3.13.0"
  }
 },
 "nbformat": 4,
 "nbformat_minor": 5
}

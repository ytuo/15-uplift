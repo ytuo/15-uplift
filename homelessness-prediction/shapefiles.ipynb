{
 "cells": [
  {
   "cell_type": "markdown",
   "id": "ed9fd5bb",
   "metadata": {},
   "source": [
    "# CoC to Census Tract Mapping\n",
    "In this section, we will associate each Continuum of Care (CoC) with relevant census data, such as census level demographics, income, and cost of living data. To do so, we will use shape files of each CoC and US Census Bureau tracts. Note that tracts may change on an annual basis; therefore, these data must be generated for each year."
   ]
  },
  {
   "cell_type": "code",
   "execution_count": null,
   "id": "07c0f774",
   "metadata": {},
   "outputs": [],
   "source": [
    "import pandas as pd\n",
    "import geopandas as gpd\n",
    "import matplotlib.pyplot as plt\n",
    "import os\n",
    "from pathlib import Path\n",
    "import numpy as np\n",
    "from shapely.geometry import Point\n",
    "from urllib.request import urlretrieve\n",
    "from urllib.parse import urlparse\n",
    "from utils import *\n",
    "from parameters import *\n",
    "import openpyxl\n",
    "from concurrent.futures import ThreadPoolExecutor"
   ]
  },
  {
   "cell_type": "markdown",
   "id": "e039c700",
   "metadata": {},
   "source": [
    "## Algorithm\n",
    "CoCs can contain many US Census Bureau tracts. For each tract constituting a CoC, we note the fraction of the total tract encompassed in the CoC. Tracts of which less than 1% of the total tract area is within the CoC are omitted.\n",
    "\n",
    "Algorithmically, this is done by performing intersections between shape files and then calculating the total area of overlap after converting to an area-preserving coordinate reference system. The data are stored in dictionaries for each state."
   ]
  },
  {
   "cell_type": "code",
   "execution_count": null,
   "id": "0ce41ea7",
   "metadata": {},
   "outputs": [],
   "source": [
    "census_api_key = \"85e4d04ebdc75be192b6cd5444f6dc9970a95666\"\n",
    "\n",
    "# summary_2024 = create_coc_summary(2011, census_api_key)\n"
   ]
  },
  {
   "cell_type": "code",
   "execution_count": null,
   "id": "c17f2d08",
   "metadata": {},
   "outputs": [],
   "source": [
    "\n",
    "years = range(2011, 2025)\n",
    "\n",
    "with ThreadPoolExecutor(max_workers=10) as parallel_executor:\n",
    "    futures = []\n",
    "    for year in years:\n",
    "        futures.append(parallel_executor.submit(create_coc_summary, year, census_api_key))\n",
    "\n",
    "with pd.ExcelWriter('coc_summary_4.xlsx') as writer:\n",
    "    for yr, fut in zip(years, futures):\n",
    "        try:\n",
    "            df = fut.result()\n",
    "            df.to_excel(writer, sheet_name=str(yr), index=True)\n",
    "        except Exception as e:\n",
    "            print(f\"Year {yr}: {e}\")"
   ]
  },
  {
   "cell_type": "code",
   "execution_count": null,
   "id": "918a5be1",
   "metadata": {},
   "outputs": [],
   "source": []
  }
 ],
 "metadata": {
  "kernelspec": {
   "display_name": "3.13.0",
   "language": "python",
   "name": "python3"
  },
  "language_info": {
   "codemirror_mode": {
    "name": "ipython",
    "version": 3
   },
   "file_extension": ".py",
   "mimetype": "text/x-python",
   "name": "python",
   "nbconvert_exporter": "python",
   "pygments_lexer": "ipython3",
   "version": "3.13.0"
  }
 },
 "nbformat": 4,
 "nbformat_minor": 5
}

{
 "cells": [
  {
   "cell_type": "markdown",
   "id": "ed9fd5bb",
   "metadata": {},
   "source": [
    "# Continuum of Care Shapefiles\n",
    "In this section, we will associate each Continuum of Care (CoC) with relevant census data, such as census level demographics, income, and cost of living data. To do so, we will use shape files of each CoC and US Census Bureau tracts. Note that tracts may change on an annual basis; therefore, these data must be generated for each year."
   ]
  },
  {
   "cell_type": "code",
   "execution_count": 26,
   "id": "07c0f774",
   "metadata": {},
   "outputs": [],
   "source": [
    "import pandas as pd\n",
    "import geopandas as gpd\n",
    "import matplotlib.pyplot as plt\n",
    "import os\n",
    "from pathlib import Path\n",
    "import numpy as np\n",
    "from shapely.geometry import Point\n"
   ]
  },
  {
   "cell_type": "code",
   "execution_count": 24,
   "id": "78a8976f",
   "metadata": {},
   "outputs": [],
   "source": [
    "# Run this cell to clear variables\n",
    "%reset"
   ]
  },
  {
   "cell_type": "markdown",
   "id": "e039c700",
   "metadata": {},
   "source": [
    "## CoC to Census Tract Mapping\n",
    "CoCs can contain many US Census Bureau tracts. For each tract constituting a CoC, we note the fraction of the total tract encompassed in the CoC. Tracts of which less than 1% of the total tract area is within the CoC are omitted.\n",
    "\n",
    "Algorithmically, this is done by performing intersections between shape files and then calculating the total area of overlap after converting to an area-preserving coordinate reference system. The data are stored in dictionaries for each state."
   ]
  },
  {
   "cell_type": "code",
   "execution_count": 27,
   "id": "8c736826",
   "metadata": {},
   "outputs": [],
   "source": [
    "def create_cocs_tract_crosswalk(state = 'MA', tracts_dir = 'tl_2024_25_tract'):\n",
    "    \n",
    "    directory = Path.cwd()\n",
    "    coc_path = directory / 'data' / 'coc-shapefiles' / state\n",
    "    tracts_path = directory / 'data' / tracts_dir\n",
    "    cocs = [coc for coc in os.listdir(coc_path) if coc.startswith(state + '_')]\n",
    "\n",
    "    # We must represent each CoC as a combination of Census tracts\n",
    "    cocs_tract_crosswalk = {}\n",
    "    tracts = gpd.read_file(tracts_path / str(tracts_dir + '.shp'))\n",
    "\n",
    "    for coc in cocs:\n",
    "        coc_tract_crosswalk = {}\n",
    "        coc_file = coc_path / coc / str(coc + '.shp')\n",
    "        if coc_file.is_file():\n",
    "            coc_gpd = gpd.read_file(coc_file)\n",
    "            overlapping_tracts = gpd.sjoin(tracts, coc_gpd, how=\"inner\", predicate=\"intersects\")\n",
    "            # FOR DEBUGGING: Plot the overlapping tracts\n",
    "            # fig, axes = plt.subplots(ncols = 2)\n",
    "            # coc_gpd.plot(\n",
    "            #     ax=axes[0]\n",
    "            # )\n",
    "            # overlapping_tracts.plot(\n",
    "            #     ax=axes[1]\n",
    "            # )\n",
    "            \n",
    "            # For those tracts that overlap, we estimate how much of each tract is contained in the CoC\n",
    "            # First, project the CoC and tracts into an area-preserving coordinate system\n",
    "            coc_projected = coc_gpd.to_crs(epsg=6933)\n",
    "            tracts_projected = overlapping_tracts.to_crs(epsg=6933)\n",
    "            for tract in tracts_projected.itertuples():\n",
    "                intersection_area = tract.geometry.intersection(coc_projected.geometry).area\n",
    "                tract_area = tract.geometry.area\n",
    "                overlap = (intersection_area.iat[0]/tract_area)\n",
    "            \n",
    "                # Only keep tracts for which at least 1% of the tract is in CoC\n",
    "                if overlap > 0.01: coc_tract_crosswalk[tract.GEOID] = round(overlap, 4)\n",
    "        \n",
    "        cocs_tract_crosswalk[coc] = coc_tract_crosswalk\n",
    "    \n",
    "    return cocs_tract_crosswalk\n",
    "\n",
    "ma_cocs_tract_crosswalk = create_cocs_tract_crosswalk(state='MA', tracts_dir='tl_2024_25_tract')"
   ]
  },
  {
   "cell_type": "code",
   "execution_count": 13,
   "id": "00289a8e",
   "metadata": {},
   "outputs": [
    {
     "data": {
      "text/plain": [
       "{'25009205100': np.float64(1.0),\n",
       " '25009205200': np.float64(1.0),\n",
       " '25009205300': np.float64(1.0),\n",
       " '25009205400': np.float64(1.0),\n",
       " '25009205500': np.float64(1.0),\n",
       " '25009206200': np.float64(1.0),\n",
       " '25009206000': np.float64(1.0),\n",
       " '25009206300': np.float64(1.0),\n",
       " '25009206400': np.float64(1.0),\n",
       " '25009206500': np.float64(1.0),\n",
       " '25009206600': np.float64(0.83),\n",
       " '25009206700': np.float64(0.7537),\n",
       " '25009206800': np.float64(1.0),\n",
       " '25009206900': np.float64(0.8892),\n",
       " '25009207000': np.float64(0.925),\n",
       " '25009207100': np.float64(1.0),\n",
       " '25009207200': np.float64(0.856),\n",
       " '25009205900': np.float64(1.0),\n",
       " '25009206100': np.float64(1.0),\n",
       " '25009205600': np.float64(1.0),\n",
       " '25009205700': np.float64(0.9256),\n",
       " '25009205800': np.float64(0.9024)}"
      ]
     },
     "execution_count": 13,
     "metadata": {},
     "output_type": "execute_result"
    }
   ],
   "source": [
    "ma_cocs_tract_crosswalk['MA_502']"
   ]
  },
  {
   "cell_type": "code",
   "execution_count": null,
   "id": "0565b5f8",
   "metadata": {},
   "outputs": [],
   "source": []
  }
 ],
 "metadata": {
  "kernelspec": {
   "display_name": "3.13.0",
   "language": "python",
   "name": "python3"
  },
  "language_info": {
   "codemirror_mode": {
    "name": "ipython",
    "version": 3
   },
   "file_extension": ".py",
   "mimetype": "text/x-python",
   "name": "python",
   "nbconvert_exporter": "python",
   "pygments_lexer": "ipython3",
   "version": "3.13.0"
  }
 },
 "nbformat": 4,
 "nbformat_minor": 5
}

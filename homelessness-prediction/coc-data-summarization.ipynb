{
 "cells": [
  {
   "cell_type": "markdown",
   "id": "ed9fd5bb",
   "metadata": {},
   "source": [
    "# CoC Data Summarization\n",
    "The number of people experiencing homelessness (PEP) is estimated every year during a point in time (PIT) count conducted in each continuum of care (CoC). The US Census Bureau conducts various surveys, including the 5-year American Community Survey, which collects critical data such as education, income, demographics, cost of living, fractions of the population receving assistance from government programs, and many others. \n",
    "\n",
    "The ACS5 survey provides high quality data at the census tract level. To associate the census features with CoCs, we represent a CoC as a combination of its constituent census tracts to create a data set consisting of PIT data and aggregated tract-level features."
   ]
  },
  {
   "cell_type": "code",
   "execution_count": 1,
   "id": "07c0f774",
   "metadata": {},
   "outputs": [],
   "source": [
    "import pandas as pd\n",
    "from utils import *\n",
    "from parameters import *\n",
    "import openpyxl\n",
    "from concurrent.futures import ThreadPoolExecutor\n",
    "import matplotlib.pyplot as plt"
   ]
  },
  {
   "cell_type": "markdown",
   "id": "e039c700",
   "metadata": {},
   "source": [
    "## Methods\n",
    "CoCs can contain many US Census Bureau tracts. For each tract constituting a CoC, we note the fraction of the total tract encompassed in the CoC. Tracts of which less than 1% of the total tract area is within the CoC are omitted.\n",
    "\n",
    "Algorithmically, this is done by performing intersections between shape files and then calculating the total area of overlap after converting to an area-preserving coordinate reference system. Note that tracts may change on an annual basis; therefore, these data must be generated for each year. \n",
    "\n",
    "This formulation can be expressed succinctly as:\n",
    "\n",
    "$$\n",
    "x_i = \\sum_{t \\in \\mathcal{T}} \\alpha_t x_{it}\n",
    "$$\n",
    "\n",
    "where $x_i$ is value of feature $i$ for the CoC in question, $x_{it}$ is the value of feature $i$ for a census tract $t$, $\\mathcal{T}$ is the set of census tracts that intersect the CoC, and $\\alpha_t \\in [0.01, 1]$ is the geographic weighting of census tract $t$, i.e., how much of tract $t$ is in the CoC.\n",
    "\n",
    "For median, per capita, or other averaged features, such as household income or property value, we perform a population-weighted linear combination of the census tracts:\n",
    "\n",
    "$$\n",
    "\\bar{x}_i = \\sum_{t \\in \\mathcal{T}} \\beta_t \\bar{x}_{it}\n",
    "$$\n",
    "\n",
    "where \n",
    "\n",
    "$$\n",
    "\\beta_{t} = \\frac{\\alpha_t\\mathrm{population}_t}{\\sum_{t\\in\\mathcal{T}} \\alpha_t \\mathrm{population}_t}.\n",
    "$$\n",
    "\n",
    "In all modeling, we assume a uniform distribution of the population within a census tract. The set of features selected for this analysis are defined in ```census_features``` in ```parameters.py```. The functions to execute the algorithm described herein are defined in ```utils.py```."
   ]
  },
  {
   "cell_type": "code",
   "execution_count": null,
   "id": "0ce41ea7",
   "metadata": {},
   "outputs": [],
   "source": [
    "census_api_key = \"85e4d04ebdc75be192b6cd5444f6dc9970a95666\"\n",
    "\n",
    "# # Test single year\n",
    "summary_2023 = create_coc_summary(2023, census_api_key)\n",
    "summary_2023_processed = post_process_census_data(summary_2023)"
   ]
  },
  {
   "cell_type": "code",
   "execution_count": null,
   "id": "c17f2d08",
   "metadata": {},
   "outputs": [],
   "source": [
    "# Aggregate data over all years from 2011 through 2023; at the time of this work, data ACS5 for 2024 was not yet available.\n",
    "years = range(2011, 2024)\n",
    "\n",
    "# Execute queries in parallel\n",
    "with ThreadPoolExecutor(max_workers=10) as parallel_executor:\n",
    "    futures = []\n",
    "    for year in years:\n",
    "        futures.append(parallel_executor.submit(process_census_data, year, census_api_key, states))\n",
    "\n",
    "with pd.ExcelWriter('coc_summary_6.xlsx') as writer:\n",
    "    for yr, fut in zip(years, futures):\n",
    "        try:\n",
    "            df = fut.result()\n",
    "            df.to_excel(writer, sheet_name=str(yr), index=True)\n",
    "        except Exception as e:\n",
    "            print(f\"Year {yr}: {e}\")"
   ]
  },
  {
   "cell_type": "code",
   "execution_count": null,
   "id": "5415e2e4",
   "metadata": {},
   "outputs": [],
   "source": [
    "# print(os.getcwd())\n",
    "comparison_processed = pd.read_excel('data/model_values_comparison.xlsx')\n",
    "coc_gpd = create_cocs_graphs(2018)\n",
    "coc_gpd_joined = coc_gpd.merge(\n",
    "    comparison_processed,\n",
    "    left_on='COCNUM',\n",
    "    right_on='coc_number',\n",
    "    how='left'\n",
    ")\n",
    "# summary_2023_processed['COCNUM'] = summary_2023_processed.index.str.replace('_', '-')\n",
    "# coc_gpd = create_cocs_graphs(2023)\n",
    "# coc_gpd_joined = coc_gpd.merge(\n",
    "#     summary_2023_processed,\n",
    "#     left_on='COCNUM',\n",
    "#     right_on='COCNUM',\n",
    "#     how='left'\n",
    "# )"
   ]
  }
 ],
 "metadata": {
  "kernelspec": {
   "display_name": "env",
   "language": "python",
   "name": "python3"
  },
  "language_info": {
   "codemirror_mode": {
    "name": "ipython",
    "version": 3
   },
   "file_extension": ".py",
   "mimetype": "text/x-python",
   "name": "python",
   "nbconvert_exporter": "python",
   "pygments_lexer": "ipython3",
   "version": "3.13.0"
  }
 },
 "nbformat": 4,
 "nbformat_minor": 5
}

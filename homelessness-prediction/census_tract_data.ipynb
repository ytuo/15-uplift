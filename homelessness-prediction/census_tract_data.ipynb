{
 "cells": [
  {
   "cell_type": "markdown",
   "id": "6cd38a36",
   "metadata": {},
   "source": [
    "# Data Acquisition and Processing for Census Tracts"
   ]
  },
  {
   "cell_type": "markdown",
   "id": "e9b65dc0",
   "metadata": {},
   "source": []
  }
 ],
 "metadata": {
  "language_info": {
   "name": "python"
  }
 },
 "nbformat": 4,
 "nbformat_minor": 5
}

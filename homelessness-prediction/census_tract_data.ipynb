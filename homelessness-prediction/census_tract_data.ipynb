{
 "cells": [
  {
   "cell_type": "markdown",
   "id": "6cd38a36",
   "metadata": {},
   "source": [
    "# Data Acquisition and Processing for Census Tracts"
   ]
  },
  {
   "cell_type": "markdown",
   "id": "e9b65dc0",
   "metadata": {},
   "source": []
  },
  {
   "cell_type": "code",
   "execution_count": null,
   "id": "0687d59f",
   "metadata": {},
   "outputs": [],
   "source": [
    "import pandas as pd\n",
    "from parameters import *\n",
    "from utils import *\n",
    "from concurrent.futures import ThreadPoolExecutor, as_completed"
   ]
  },
  {
   "cell_type": "code",
   "execution_count": null,
   "id": "89158eac",
   "metadata": {},
   "outputs": [],
   "source": [
    "census_api_key = \"85e4d04ebdc75be192b6cd5444f6dc9970a95666\"\n",
    "\n",
    "years = range(2012, 2024)\n",
    "with ThreadPoolExecutor(max_workers=10) as parallel_executor:\n",
    "    futures = []\n",
    "    for year in years:\n",
    "        for state in states:\n",
    "            futures.append([year, parallel_executor.submit(get_state_tracts, state, year, census_api_key)])"
   ]
  },
  {
   "cell_type": "code",
   "execution_count": null,
   "id": "bb39c686",
   "metadata": {},
   "outputs": [],
   "source": [
    "census_bureau_data = {}\n",
    "for year in years:\n",
    "    yearly_data = filter(lambda x: x[0] == year, futures)\n",
    "    dfs = []\n",
    "    for data in yearly_data:\n",
    "        df = data[1].result()\n",
    "        df['GEOID'] = df['state'].astype(str) + df['county'].astype(str) + df['tract'].astype(str)\n",
    "        df = df[1:]\n",
    "        # print(df.head())\n",
    "        dfs.append(df)\n",
    "    census_bureau_data[year] = pd.concat(dfs, axis=0, ignore_index=False)"
   ]
  },
  {
   "cell_type": "code",
   "execution_count": null,
   "id": "1fe53949",
   "metadata": {},
   "outputs": [],
   "source": [
    "census_bureau_data[2013].head()"
   ]
  },
  {
   "cell_type": "code",
   "execution_count": null,
   "id": "96b7db10",
   "metadata": {},
   "outputs": [],
   "source": []
  }
 ],
 "metadata": {
  "kernelspec": {
   "display_name": "3.13.0",
   "language": "python",
   "name": "python3"
  },
  "language_info": {
   "codemirror_mode": {
    "name": "ipython",
    "version": 3
   },
   "file_extension": ".py",
   "mimetype": "text/x-python",
   "name": "python",
   "nbconvert_exporter": "python",
   "pygments_lexer": "ipython3",
   "version": "3.13.0"
  }
 },
 "nbformat": 4,
 "nbformat_minor": 5
}
